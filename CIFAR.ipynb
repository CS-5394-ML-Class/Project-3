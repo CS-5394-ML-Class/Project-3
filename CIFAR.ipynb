{
 "cells": [
  {
   "cell_type": "markdown",
   "id": "f7a0f35f-d540-4121-b9de-4f334c3b7495",
   "metadata": {},
   "source": [
    "# Imports And Setup"
   ]
  },
  {
   "cell_type": "code",
   "execution_count": 2,
   "id": "38fec45a-a8a1-468b-944f-e3a5a9b355ca",
   "metadata": {},
   "outputs": [],
   "source": [
    "import pickle\n",
    "import pandas as pd\n",
    "import numpy as np\n",
    "import sklearn as sk\n",
    "from sklearn.linear_model import SGDClassifier\n",
    "from sklearn.metrics import classification_report\n",
    "import matplotlib.pyplot as plt\n",
    "from sklearn.tree import DecisionTreeRegressor\n",
    "from sklearn.neighbors import KNeighborsClassifier\n",
    "from sklearn.ensemble import RandomForestClassifier\n",
    "from sklearn.svm import SVC\n",
    "from sklearn.multiclass import OneVsRestClassifier"
   ]
  },
  {
   "cell_type": "code",
   "execution_count": 3,
   "id": "4c255ce8-1a90-4833-8268-ef65c4de59fa",
   "metadata": {},
   "outputs": [],
   "source": [
    "# Data file names\n",
    "batch1_name = \"CIFAR_data/data_batch_1\"\n",
    "batch2_name = \"CIFAR_data/data_batch_2\"\n",
    "batch3_name = \"CIFAR_data/data_batch_3\"\n",
    "batch4_name = \"CIFAR_data/data_batch_4\"\n",
    "batch5_name = \"CIFAR_data/data_batch_5\"\n",
    "batchT_name = \"CIFAR_data/test_batch\"\n",
    "meta_name = \"CIFAR_data/batches.meta\""
   ]
  },
  {
   "cell_type": "markdown",
   "id": "95e43a85-6a5a-413e-b706-6a143a1b1a52",
   "metadata": {},
   "source": [
    "# Data Loading And Cleaning"
   ]
  },
  {
   "cell_type": "code",
   "execution_count": 4,
   "id": "f75f08e5-a1a6-455c-bf73-fc3d6159d805",
   "metadata": {},
   "outputs": [],
   "source": [
    "# Used to load in the data files\n",
    "def unpickle(file):\n",
    "    import pickle\n",
    "    with open(file, 'rb') as fo:\n",
    "        dict = pickle.load(fo, encoding='bytes')\n",
    "    return dict"
   ]
  },
  {
   "cell_type": "code",
   "execution_count": 5,
   "id": "e9ca12a2-1150-48af-bb33-c505a1e38c2e",
   "metadata": {},
   "outputs": [],
   "source": [
    "# Load in each data file\n",
    "batch1 = unpickle(batch1_name)\n",
    "batch2 = unpickle(batch2_name)\n",
    "batch3 = unpickle(batch3_name)\n",
    "batch4 = unpickle(batch4_name)\n",
    "batch5 = unpickle(batch5_name)\n",
    "batchT = unpickle(batchT_name)"
   ]
  },
  {
   "cell_type": "code",
   "execution_count": 6,
   "id": "b96cf047-18de-419e-ba23-036488bc400c",
   "metadata": {},
   "outputs": [
    {
     "name": "stdout",
     "output_type": "stream",
     "text": [
      "dict_keys([b'batch_label', b'labels', b'data', b'filenames'])\n",
      "b'training batch 1 of 5'\n",
      "[6, 9, 9, 4, 1, 1, 2, 7, 8, 3]\n",
      "<class 'list'>\n",
      "[ 59  43  50 ... 140  84  72]\n",
      "<class 'numpy.ndarray'>\n",
      "[b'leptodactylus_pentadactylus_s_000004.png', b'camion_s_000148.png', b'tipper_truck_s_001250.png', b'american_elk_s_001521.png', b'station_wagon_s_000293.png', b'coupe_s_001735.png', b'cassowary_s_001300.png', b'cow_pony_s_001168.png', b'sea_boat_s_001584.png', b'tabby_s_001355.png']\n"
     ]
    }
   ],
   "source": [
    "# What does the data look like?\n",
    "print(batch1.keys())             # Keys\n",
    "print(batch1[b'batch_label'])    # Batch label\n",
    "print(batch1[b'labels'][:10])    # Labels\n",
    "print(type(batch1[b'labels']))   # Label type\n",
    "print(batch1[b'data'][0])        # Data\n",
    "print(type(batch1[b'data']))   # Data type\n",
    "print(batch1[b'filenames'][:10]) # Filenames"
   ]
  },
  {
   "cell_type": "code",
   "execution_count": 7,
   "id": "a00c033c-b7c0-48c8-863d-0bb1769fd30a",
   "metadata": {},
   "outputs": [],
   "source": [
    "# Store the labels and data as a numpy array\n",
    "batch1['labels'] = np.array(batch1[b'labels'], dtype=np.int8)\n",
    "batch1['data'] = batch1[b'data']\n",
    "batch2['labels'] = np.array(batch2[b'labels'], dtype=np.int8)\n",
    "batch2['data'] = batch2[b'data']\n",
    "batch3['labels'] = np.array(batch3[b'labels'], dtype=np.int8)\n",
    "batch3['data'] = batch3[b'data']\n",
    "batch4['labels'] = np.array(batch4[b'labels'], dtype=np.int8)\n",
    "batch4['data'] = batch4[b'data']\n",
    "batch5['labels'] = np.array(batch5[b'labels'], dtype=np.int8)\n",
    "batch5['data'] = batch5[b'data']\n",
    "batchT['labels'] = np.array(batchT[b'labels'], dtype=np.int8)\n",
    "batchT['data'] = batchT[b'data']"
   ]
  },
  {
   "cell_type": "code",
   "execution_count": 8,
   "id": "910aab03-1867-4180-a8f2-721039abbd41",
   "metadata": {},
   "outputs": [
    {
     "name": "stdout",
     "output_type": "stream",
     "text": [
      "[6 9 9 4 1 1 2 7 8 3]\n",
      "[ 59  43  50 ... 140  84  72]\n"
     ]
    }
   ],
   "source": [
    "# Check if the conversion was successful\n",
    "print(batch1['labels'][:10])\n",
    "print(batch1['data'][0])"
   ]
  },
  {
   "cell_type": "code",
   "execution_count": 9,
   "id": "b0ba76c6-245f-4880-8142-cca7a3328daf",
   "metadata": {},
   "outputs": [],
   "source": [
    "# Load in the metadata\n",
    "meta = unpickle(meta_name)"
   ]
  },
  {
   "cell_type": "code",
   "execution_count": 10,
   "id": "d7ffef24-bc87-4fae-8da8-7d7b9467b9ce",
   "metadata": {},
   "outputs": [
    {
     "data": {
      "text/plain": [
       "[b'airplane',\n",
       " b'automobile',\n",
       " b'bird',\n",
       " b'cat',\n",
       " b'deer',\n",
       " b'dog',\n",
       " b'frog',\n",
       " b'horse',\n",
       " b'ship',\n",
       " b'truck']"
      ]
     },
     "execution_count": 10,
     "metadata": {},
     "output_type": "execute_result"
    }
   ],
   "source": [
    "# Visualize the metadata\n",
    "meta[b'label_names']"
   ]
  },
  {
   "cell_type": "code",
   "execution_count": 11,
   "id": "86a7f253-38b9-4c89-8933-aa94bdabca0d",
   "metadata": {},
   "outputs": [],
   "source": [
    "# Convert the metadata to dictionaries\n",
    "meta_numToLab = {i:str(meta[b'label_names'][i])[2:-1] for i in range(0, len(meta[b'label_names']))}\n",
    "meta_labToNum = {str(meta[b'label_names'][i])[2:-1]:i for i in range(0, len(meta[b'label_names']))}"
   ]
  },
  {
   "cell_type": "code",
   "execution_count": 12,
   "id": "0d7b9312-4335-4f78-b4f8-612a2a6412eb",
   "metadata": {},
   "outputs": [
    {
     "data": {
      "text/plain": [
       "{0: 'airplane',\n",
       " 1: 'automobile',\n",
       " 2: 'bird',\n",
       " 3: 'cat',\n",
       " 4: 'deer',\n",
       " 5: 'dog',\n",
       " 6: 'frog',\n",
       " 7: 'horse',\n",
       " 8: 'ship',\n",
       " 9: 'truck'}"
      ]
     },
     "execution_count": 12,
     "metadata": {},
     "output_type": "execute_result"
    }
   ],
   "source": [
    "meta_numToLab"
   ]
  },
  {
   "cell_type": "code",
   "execution_count": 13,
   "id": "1990845e-1936-40e5-8c88-09ca2ecdf65a",
   "metadata": {},
   "outputs": [
    {
     "data": {
      "text/plain": [
       "{'airplane': 0,\n",
       " 'automobile': 1,\n",
       " 'bird': 2,\n",
       " 'cat': 3,\n",
       " 'deer': 4,\n",
       " 'dog': 5,\n",
       " 'frog': 6,\n",
       " 'horse': 7,\n",
       " 'ship': 8,\n",
       " 'truck': 9}"
      ]
     },
     "execution_count": 13,
     "metadata": {},
     "output_type": "execute_result"
    }
   ],
   "source": [
    "meta_labToNum"
   ]
  },
  {
   "cell_type": "code",
   "execution_count": 14,
   "id": "f0226ca7-520f-439b-9278-8442ce35c0dc",
   "metadata": {},
   "outputs": [],
   "source": [
    "# Combine the data into a single array of labels and an array of data\n",
    "# and store the data in a dnew dictionary\n",
    "batchC = {\"train\":dict(), \"test\":dict()}\n",
    "batchC[\"train\"][\"Y\"] = np.concatenate((batch1[\"labels\"], batch2[\"labels\"], batch3[\"labels\"], batch4[\"labels\"], batch5[\"labels\"]), dtype=np.int8)\n",
    "batchC[\"train\"][\"x\"] = np.concatenate((batch1[\"data\"], batch2[\"data\"], batch3[\"data\"], batch4[\"data\"], batch5[\"data\"]), dtype=np.uint8)\n",
    "batchC[\"test\"][\"Y\"] = np.array(batchT[\"labels\"], dtype=np.int8)\n",
    "batchC[\"test\"][\"x\"] = np.array(batchT[\"data\"], dtype=np.uint8)"
   ]
  },
  {
   "cell_type": "code",
   "execution_count": 15,
   "id": "03a3cedd-cf58-4465-a42e-aadafd828e55",
   "metadata": {},
   "outputs": [],
   "source": [
    "# Ensure the conversion was successful\n",
    "assert np.array_equal(batchC[\"train\"][\"Y\"][:10], batch1[\"labels\"][:10])\n",
    "assert np.array_equal(batchC[\"train\"][\"Y\"][-10:], batch5[\"labels\"][-10:])\n",
    "assert np.array_equal(batchC[\"train\"][\"x\"][:10], batch1[\"data\"][:10])\n",
    "assert np.array_equal(batchC[\"train\"][\"x\"][-10:], batch5[\"data\"][-10:])\n",
    "\n",
    "assert np.array_equal(batchC[\"test\"][\"Y\"][:10], batchT[\"labels\"][:10])\n",
    "assert np.array_equal(batchC[\"test\"][\"Y\"][-10:], batchT[\"labels\"][-10:])\n",
    "assert np.array_equal(batchC[\"test\"][\"x\"][:10], batchT[\"data\"][:10])\n",
    "assert np.array_equal(batchC[\"test\"][\"x\"][-10:], batchT[\"data\"][-10:])"
   ]
  },
  {
   "cell_type": "code",
   "execution_count": 16,
   "id": "7d200d3d-8a93-4f81-8726-e13b158ebfdf",
   "metadata": {},
   "outputs": [
    {
     "name": "stdout",
     "output_type": "stream",
     "text": [
      "Train Labels: (50000,)\n",
      "Train Data:   (50000, 3072)\n",
      "Test Labels:  (10000,)\n",
      "Test Data:    (10000, 3072)\n"
     ]
    }
   ],
   "source": [
    "# The data shapes\n",
    "print(f'Train Labels: {batchC[\"train\"][\"Y\"].shape}')\n",
    "print(f'Train Data:   {batchC[\"train\"][\"x\"].shape}')\n",
    "print(f'Test Labels:  {batchC[\"test\"][\"Y\"].shape}')\n",
    "print(f'Test Data:    {batchC[\"test\"][\"x\"].shape}')"
   ]
  },
  {
   "cell_type": "markdown",
   "id": "577afc99-7fca-4886-9a3e-dbd2c390cff7",
   "metadata": {},
   "source": [
    "# SGDClassifier"
   ]
  },
  {
   "cell_type": "code",
   "execution_count": 22,
   "id": "d5be072e-21eb-4698-913c-d64622500f00",
   "metadata": {},
   "outputs": [],
   "source": [
    "# Create the classifier\n",
    "sgdc = SGDClassifier(max_iter=1000)"
   ]
  },
  {
   "cell_type": "code",
   "execution_count": null,
   "id": "29d14985-b970-4b6e-a8a3-4397624ff613",
   "metadata": {},
   "outputs": [],
   "source": [
    "# Train the classifier\n",
    "sgdc.fit(batchC[\"train\"][\"x\"], batchC[\"train\"][\"Y\"])"
   ]
  },
  {
   "cell_type": "code",
   "execution_count": null,
   "id": "2d4f46c8-2177-4a3c-a41a-a8bfcc022235",
   "metadata": {},
   "outputs": [],
   "source": [
    "# Check the train and test accuracy\n",
    "sgdc_train_acc = sgdc.score(batchC[\"train\"][\"x\"], batchC[\"train\"][\"Y\"])\n",
    "sgdc_test_acc = sgdc.score(batchC[\"test\"][\"x\"], batchC[\"test\"][\"Y\"])"
   ]
  },
  {
   "cell_type": "code",
   "execution_count": null,
   "id": "7eb65d83-c4aa-45a1-b95d-9c9784eef628",
   "metadata": {},
   "outputs": [],
   "source": [
    "# Get a report for the classification model\n",
    "preds = sgdc.predict(batchC[\"train\"][\"x\"])\n",
    "classification_report(batchC[\"train\"][\"Y\"], preds)"
   ]
  },
  {
   "cell_type": "markdown",
   "id": "12709c3c-dc6e-40ef-83cb-ee8cfff18d06",
   "metadata": {},
   "source": [
    "# Linear Regression"
   ]
  },
  {
   "cell_type": "code",
   "execution_count": 16,
   "id": "ddf94760-4c2a-4f19-b88c-36a398cf634a",
   "metadata": {},
   "outputs": [],
   "source": [
    "# Create the model\n",
    "LR = sk.linear_model.LinearRegression()"
   ]
  },
  {
   "cell_type": "code",
   "execution_count": 17,
   "id": "fe81b8ad-17a1-4355-8436-072b50ca8e4b",
   "metadata": {},
   "outputs": [
    {
     "data": {
      "text/plain": [
       "LinearRegression()"
      ]
     },
     "execution_count": 17,
     "metadata": {},
     "output_type": "execute_result"
    }
   ],
   "source": [
    "# Fit the model\n",
    "LR.fit(batchC[\"train\"][\"x\"], batchC[\"train\"][\"Y\"])"
   ]
  },
  {
   "cell_type": "code",
   "execution_count": 18,
   "id": "c2ba2e81-eff5-4676-b58e-b984512a6725",
   "metadata": {},
   "outputs": [
    {
     "name": "stdout",
     "output_type": "stream",
     "text": [
      "Train: 0.15024781123171782\n",
      "Test: 0.02634806717868443\n"
     ]
    }
   ],
   "source": [
    "# Check the train and test accuracy\n",
    "print(f'Train: {LR.score(batchC[\"train\"][\"x\"], batchC[\"train\"][\"Y\"])}')\n",
    "print(f'Test: {LR.score(batchC[\"test\"][\"x\"], batchC[\"test\"][\"Y\"])}')"
   ]
  },
  {
   "cell_type": "markdown",
   "id": "d51961de-fe44-4090-b476-f439db33dda0",
   "metadata": {},
   "source": [
    "# Decision Tree Regressor"
   ]
  },
  {
   "cell_type": "code",
   "execution_count": 16,
   "id": "40b2a3b1-d6e8-4568-bd04-57dd9c63b378",
   "metadata": {},
   "outputs": [],
   "source": [
    "# Create the models\n",
    "DCR1 = DecisionTreeRegressor(max_depth=3)\n",
    "DCR2 = DecisionTreeRegressor(max_depth=5)"
   ]
  },
  {
   "cell_type": "code",
   "execution_count": 17,
   "id": "377911b4-bfaa-4eb6-b69f-b39d1810a0a1",
   "metadata": {},
   "outputs": [
    {
     "data": {
      "text/plain": [
       "DecisionTreeRegressor(max_depth=5)"
      ]
     },
     "execution_count": 17,
     "metadata": {},
     "output_type": "execute_result"
    }
   ],
   "source": [
    "# Fit the models\n",
    "DCR1.fit(batchC[\"train\"][\"x\"], batchC[\"train\"][\"Y\"])\n",
    "DCR2.fit(batchC[\"train\"][\"x\"], batchC[\"train\"][\"Y\"])"
   ]
  },
  {
   "cell_type": "code",
   "execution_count": 20,
   "id": "dd4edb7c-9f38-476c-9c47-bc195fb9b298",
   "metadata": {},
   "outputs": [
    {
     "name": "stdout",
     "output_type": "stream",
     "text": [
      "Model 1 Train: 0.0678039144532292\n",
      "Model 1 Test: 0.07334185391129788\n",
      "Model 2 Train: 0.10136146644358612\n",
      "Model 2 Test: 0.08654625896435797\n"
     ]
    }
   ],
   "source": [
    "# Check the train and test accuracy\n",
    "print(f'Model 1 Train: {DCR1.score(batchC[\"train\"][\"x\"], batchC[\"train\"][\"Y\"])}')\n",
    "print(f'Model 1 Test: {DCR1.score(batchC[\"test\"][\"x\"], batchC[\"test\"][\"Y\"])}')\n",
    "print(f'Model 2 Train: {DCR2.score(batchC[\"train\"][\"x\"], batchC[\"train\"][\"Y\"])}')\n",
    "print(f'Model 2 Test: {DCR2.score(batchC[\"test\"][\"x\"], batchC[\"test\"][\"Y\"])}')"
   ]
  },
  {
   "cell_type": "markdown",
   "id": "46107516-f880-484f-8dad-a2a8f64286bb",
   "metadata": {},
   "source": [
    "# Random Forest Classifier"
   ]
  },
  {
   "cell_type": "code",
   "execution_count": 17,
   "id": "f299c52c-8701-4aa1-94e9-840033bcfa0b",
   "metadata": {},
   "outputs": [],
   "source": [
    "# Create the models\n",
    "RFC1 = RandomForestClassifier(n_estimators=100)\n",
    "RFC2 = RandomForestClassifier(n_estimators=200)"
   ]
  },
  {
   "cell_type": "code",
   "execution_count": null,
   "id": "4d012789-6379-4701-8860-911b95cced7f",
   "metadata": {},
   "outputs": [],
   "source": [
    "# Fit the models\n",
    "RFC1.fit(batchC[\"train\"][\"x\"], batchC[\"train\"][\"Y\"])\n",
    "RFC2.fit(batchC[\"train\"][\"x\"], batchC[\"train\"][\"Y\"])"
   ]
  },
  {
   "cell_type": "code",
   "execution_count": null,
   "id": "1a4f00bc-e57b-4147-a8eb-870fa4220146",
   "metadata": {},
   "outputs": [],
   "source": [
    "# Check the train and test accuracy\n",
    "print(f'Model 1 Train: {RFC1.score(batchC[\"train\"][\"x\"], batchC[\"train\"][\"Y\"])}')\n",
    "print(f'Model 1 Test: {RFC1.score(batchC[\"test\"][\"x\"], batchC[\"test\"][\"Y\"])}')\n",
    "print(f'Model 2 Train: {RFC2.score(batchC[\"train\"][\"x\"], batchC[\"train\"][\"Y\"])}')\n",
    "print(f'Model 2 Test: {RFC2.score(batchC[\"test\"][\"x\"], batchC[\"test\"][\"Y\"])}')"
   ]
  },
  {
   "cell_type": "markdown",
   "id": "93907bec-cbc0-4967-91f8-64ad43e81d59",
   "metadata": {},
   "source": [
    "# KNeighbors Classifier"
   ]
  },
  {
   "cell_type": "code",
   "execution_count": 16,
   "id": "801ca542-652a-4216-9249-b27706f5f3ad",
   "metadata": {},
   "outputs": [],
   "source": [
    "# Create the models\n",
    "KNN1 = KNeighborsClassifier(n_neighbors=5, leaf_size=30)\n",
    "KNN2 = KNeighborsClassifier(n_neighbors=5, leaf_size=100)\n",
    "KNN3 = KNeighborsClassifier(n_neighbors=10, leaf_size=30)\n",
    "KNN4 = KNeighborsClassifier(n_neighbors=10, leaf_size=100)"
   ]
  },
  {
   "cell_type": "code",
   "execution_count": 17,
   "id": "40e3d23e-25d2-4209-86e7-e527c6c3dc96",
   "metadata": {},
   "outputs": [
    {
     "data": {
      "text/plain": [
       "KNeighborsClassifier(leaf_size=100, n_neighbors=10)"
      ]
     },
     "execution_count": 17,
     "metadata": {},
     "output_type": "execute_result"
    }
   ],
   "source": [
    "# Fit the models\n",
    "KNN1.fit(batchC[\"train\"][\"x\"], batchC[\"train\"][\"Y\"])\n",
    "KNN2.fit(batchC[\"train\"][\"x\"], batchC[\"train\"][\"Y\"])\n",
    "KNN3.fit(batchC[\"train\"][\"x\"], batchC[\"train\"][\"Y\"])\n",
    "KNN4.fit(batchC[\"train\"][\"x\"], batchC[\"train\"][\"Y\"])"
   ]
  },
  {
   "cell_type": "code",
   "execution_count": null,
   "id": "7dc128f3-e094-472c-89eb-bcd89edce36f",
   "metadata": {},
   "outputs": [
    {
     "name": "stdout",
     "output_type": "stream",
     "text": [
      "Model 1 Train: 0.50534\n",
      "Model 1 Test: 0.3398\n",
      "Model 2 Train: 0.50534\n",
      "Model 2 Test: 0.3398\n",
      "Model 3 Train: 0.43236\n"
     ]
    }
   ],
   "source": [
    "# Check the train and test accuracy\n",
    "print(f'Model 1 Train: {KNN1.score(batchC[\"train\"][\"x\"], batchC[\"train\"][\"Y\"])}')\n",
    "print(f'Model 1 Test: {KNN1.score(batchC[\"test\"][\"x\"], batchC[\"test\"][\"Y\"])}')\n",
    "print(f'Model 2 Train: {KNN2.score(batchC[\"train\"][\"x\"], batchC[\"train\"][\"Y\"])}')\n",
    "print(f'Model 2 Test: {KNN2.score(batchC[\"test\"][\"x\"], batchC[\"test\"][\"Y\"])}')\n",
    "print(f'Model 3 Train: {KNN3.score(batchC[\"train\"][\"x\"], batchC[\"train\"][\"Y\"])}')\n",
    "print(f'Model 3 Test: {KNN3.score(batchC[\"test\"][\"x\"], batchC[\"test\"][\"Y\"])}')\n",
    "print(f'Model 4 Train: {KNN4.score(batchC[\"train\"][\"x\"], batchC[\"train\"][\"Y\"])}')\n",
    "print(f'Model 4 Test: {KNN4.score(batchC[\"test\"][\"x\"], batchC[\"test\"][\"Y\"])}')"
   ]
  },
  {
   "cell_type": "markdown",
   "id": "2ad4916e-41b8-4138-a897-2b8a0199a13e",
   "metadata": {},
   "source": [
    "# OvR Classifier"
   ]
  },
  {
   "cell_type": "code",
   "execution_count": 18,
   "id": "adee6f3f-9f80-421e-9818-1b067ac8a05d",
   "metadata": {},
   "outputs": [],
   "source": [
    "# Create and fit the model\n",
    "OvR = OneVsRestClassifier(SVC().fit(batchC[\"train\"][\"x\"], batchC[\"train\"][\"Y\"]))"
   ]
  },
  {
   "cell_type": "code",
   "execution_count": 22,
   "id": "83438280-e4bf-4dba-8f85-5d8554fc49f9",
   "metadata": {},
   "outputs": [
    {
     "data": {
      "text/plain": [
       "OneVsRestClassifier(estimator=SVC())"
      ]
     },
     "execution_count": 22,
     "metadata": {},
     "output_type": "execute_result"
    }
   ],
   "source": [
    "# Fit the model\n",
    "OvR.fit(batchC[\"train\"][\"x\"], batchC[\"train\"][\"Y\"])"
   ]
  },
  {
   "cell_type": "code",
   "execution_count": 19,
   "id": "1ca255c7-5108-466a-b03d-fbf994215b90",
   "metadata": {},
   "outputs": [
    {
     "ename": "NotFittedError",
     "evalue": "This OneVsRestClassifier instance is not fitted yet. Call 'fit' with appropriate arguments before using this estimator.",
     "output_type": "error",
     "traceback": [
      "\u001b[1;31m---------------------------------------------------------------------------\u001b[0m",
      "\u001b[1;31mNotFittedError\u001b[0m                            Traceback (most recent call last)",
      "\u001b[1;32m<ipython-input-19-3f3a9fe7b628>\u001b[0m in \u001b[0;36m<module>\u001b[1;34m\u001b[0m\n\u001b[0;32m      1\u001b[0m \u001b[1;31m# Check the train and test accuracy\u001b[0m\u001b[1;33m\u001b[0m\u001b[1;33m\u001b[0m\u001b[1;33m\u001b[0m\u001b[0m\n\u001b[1;32m----> 2\u001b[1;33m \u001b[0mprint\u001b[0m\u001b[1;33m(\u001b[0m\u001b[1;34mf'Model Train: {OvR.score(batchC[\"train\"][\"x\"], batchC[\"train\"][\"Y\"])}'\u001b[0m\u001b[1;33m)\u001b[0m\u001b[1;33m\u001b[0m\u001b[1;33m\u001b[0m\u001b[0m\n\u001b[0m\u001b[0;32m      3\u001b[0m \u001b[0mprint\u001b[0m\u001b[1;33m(\u001b[0m\u001b[1;34mf'Model Test: {OvR.score(batchC[\"test\"][\"x\"], batchC[\"test\"][\"Y\"])}'\u001b[0m\u001b[1;33m)\u001b[0m\u001b[1;33m\u001b[0m\u001b[1;33m\u001b[0m\u001b[0m\n",
      "\u001b[1;32m~\\AppData\\Roaming\\Python\\Python38\\site-packages\\sklearn\\base.py\u001b[0m in \u001b[0;36mscore\u001b[1;34m(self, X, y, sample_weight)\u001b[0m\n\u001b[0;32m    498\u001b[0m         \"\"\"\n\u001b[0;32m    499\u001b[0m         \u001b[1;32mfrom\u001b[0m \u001b[1;33m.\u001b[0m\u001b[0mmetrics\u001b[0m \u001b[1;32mimport\u001b[0m \u001b[0maccuracy_score\u001b[0m\u001b[1;33m\u001b[0m\u001b[1;33m\u001b[0m\u001b[0m\n\u001b[1;32m--> 500\u001b[1;33m         \u001b[1;32mreturn\u001b[0m \u001b[0maccuracy_score\u001b[0m\u001b[1;33m(\u001b[0m\u001b[0my\u001b[0m\u001b[1;33m,\u001b[0m \u001b[0mself\u001b[0m\u001b[1;33m.\u001b[0m\u001b[0mpredict\u001b[0m\u001b[1;33m(\u001b[0m\u001b[0mX\u001b[0m\u001b[1;33m)\u001b[0m\u001b[1;33m,\u001b[0m \u001b[0msample_weight\u001b[0m\u001b[1;33m=\u001b[0m\u001b[0msample_weight\u001b[0m\u001b[1;33m)\u001b[0m\u001b[1;33m\u001b[0m\u001b[1;33m\u001b[0m\u001b[0m\n\u001b[0m\u001b[0;32m    501\u001b[0m \u001b[1;33m\u001b[0m\u001b[0m\n\u001b[0;32m    502\u001b[0m     \u001b[1;32mdef\u001b[0m \u001b[0m_more_tags\u001b[0m\u001b[1;33m(\u001b[0m\u001b[0mself\u001b[0m\u001b[1;33m)\u001b[0m\u001b[1;33m:\u001b[0m\u001b[1;33m\u001b[0m\u001b[1;33m\u001b[0m\u001b[0m\n",
      "\u001b[1;32m~\\AppData\\Roaming\\Python\\Python38\\site-packages\\sklearn\\multiclass.py\u001b[0m in \u001b[0;36mpredict\u001b[1;34m(self, X)\u001b[0m\n\u001b[0;32m    356\u001b[0m             \u001b[0mPredicted\u001b[0m \u001b[0mmulti\u001b[0m\u001b[1;33m-\u001b[0m\u001b[1;32mclass\u001b[0m \u001b[0mtargets\u001b[0m\u001b[1;33m.\u001b[0m\u001b[1;33m\u001b[0m\u001b[1;33m\u001b[0m\u001b[0m\n\u001b[0;32m    357\u001b[0m         \"\"\"\n\u001b[1;32m--> 358\u001b[1;33m         \u001b[0mcheck_is_fitted\u001b[0m\u001b[1;33m(\u001b[0m\u001b[0mself\u001b[0m\u001b[1;33m)\u001b[0m\u001b[1;33m\u001b[0m\u001b[1;33m\u001b[0m\u001b[0m\n\u001b[0m\u001b[0;32m    359\u001b[0m \u001b[1;33m\u001b[0m\u001b[0m\n\u001b[0;32m    360\u001b[0m         \u001b[0mn_samples\u001b[0m \u001b[1;33m=\u001b[0m \u001b[0m_num_samples\u001b[0m\u001b[1;33m(\u001b[0m\u001b[0mX\u001b[0m\u001b[1;33m)\u001b[0m\u001b[1;33m\u001b[0m\u001b[1;33m\u001b[0m\u001b[0m\n",
      "\u001b[1;32m~\\AppData\\Roaming\\Python\\Python38\\site-packages\\sklearn\\utils\\validation.py\u001b[0m in \u001b[0;36minner_f\u001b[1;34m(*args, **kwargs)\u001b[0m\n\u001b[0;32m     61\u001b[0m             \u001b[0mextra_args\u001b[0m \u001b[1;33m=\u001b[0m \u001b[0mlen\u001b[0m\u001b[1;33m(\u001b[0m\u001b[0margs\u001b[0m\u001b[1;33m)\u001b[0m \u001b[1;33m-\u001b[0m \u001b[0mlen\u001b[0m\u001b[1;33m(\u001b[0m\u001b[0mall_args\u001b[0m\u001b[1;33m)\u001b[0m\u001b[1;33m\u001b[0m\u001b[1;33m\u001b[0m\u001b[0m\n\u001b[0;32m     62\u001b[0m             \u001b[1;32mif\u001b[0m \u001b[0mextra_args\u001b[0m \u001b[1;33m<=\u001b[0m \u001b[1;36m0\u001b[0m\u001b[1;33m:\u001b[0m\u001b[1;33m\u001b[0m\u001b[1;33m\u001b[0m\u001b[0m\n\u001b[1;32m---> 63\u001b[1;33m                 \u001b[1;32mreturn\u001b[0m \u001b[0mf\u001b[0m\u001b[1;33m(\u001b[0m\u001b[1;33m*\u001b[0m\u001b[0margs\u001b[0m\u001b[1;33m,\u001b[0m \u001b[1;33m**\u001b[0m\u001b[0mkwargs\u001b[0m\u001b[1;33m)\u001b[0m\u001b[1;33m\u001b[0m\u001b[1;33m\u001b[0m\u001b[0m\n\u001b[0m\u001b[0;32m     64\u001b[0m \u001b[1;33m\u001b[0m\u001b[0m\n\u001b[0;32m     65\u001b[0m             \u001b[1;31m# extra_args > 0\u001b[0m\u001b[1;33m\u001b[0m\u001b[1;33m\u001b[0m\u001b[1;33m\u001b[0m\u001b[0m\n",
      "\u001b[1;32m~\\AppData\\Roaming\\Python\\Python38\\site-packages\\sklearn\\utils\\validation.py\u001b[0m in \u001b[0;36mcheck_is_fitted\u001b[1;34m(estimator, attributes, msg, all_or_any)\u001b[0m\n\u001b[0;32m   1096\u001b[0m \u001b[1;33m\u001b[0m\u001b[0m\n\u001b[0;32m   1097\u001b[0m     \u001b[1;32mif\u001b[0m \u001b[1;32mnot\u001b[0m \u001b[0mattrs\u001b[0m\u001b[1;33m:\u001b[0m\u001b[1;33m\u001b[0m\u001b[1;33m\u001b[0m\u001b[0m\n\u001b[1;32m-> 1098\u001b[1;33m         \u001b[1;32mraise\u001b[0m \u001b[0mNotFittedError\u001b[0m\u001b[1;33m(\u001b[0m\u001b[0mmsg\u001b[0m \u001b[1;33m%\u001b[0m \u001b[1;33m{\u001b[0m\u001b[1;34m'name'\u001b[0m\u001b[1;33m:\u001b[0m \u001b[0mtype\u001b[0m\u001b[1;33m(\u001b[0m\u001b[0mestimator\u001b[0m\u001b[1;33m)\u001b[0m\u001b[1;33m.\u001b[0m\u001b[0m__name__\u001b[0m\u001b[1;33m}\u001b[0m\u001b[1;33m)\u001b[0m\u001b[1;33m\u001b[0m\u001b[1;33m\u001b[0m\u001b[0m\n\u001b[0m\u001b[0;32m   1099\u001b[0m \u001b[1;33m\u001b[0m\u001b[0m\n\u001b[0;32m   1100\u001b[0m \u001b[1;33m\u001b[0m\u001b[0m\n",
      "\u001b[1;31mNotFittedError\u001b[0m: This OneVsRestClassifier instance is not fitted yet. Call 'fit' with appropriate arguments before using this estimator."
     ]
    }
   ],
   "source": [
    "# Check the train and test accuracy\n",
    "print(f'Model Train: {OvR.score(batchC[\"train\"][\"x\"], batchC[\"train\"][\"Y\"])}')\n",
    "print(f'Model Test: {OvR.score(batchC[\"test\"][\"x\"], batchC[\"test\"][\"Y\"])}')"
   ]
  },
  {
   "cell_type": "code",
   "execution_count": null,
   "id": "0cfab9e5-d4d0-401a-85c4-ff5543be3bd2",
   "metadata": {},
   "outputs": [],
   "source": []
  }
 ],
 "metadata": {
  "kernelspec": {
   "display_name": "Python 3",
   "language": "python",
   "name": "python3"
  },
  "language_info": {
   "codemirror_mode": {
    "name": "ipython",
    "version": 3
   },
   "file_extension": ".py",
   "mimetype": "text/x-python",
   "name": "python",
   "nbconvert_exporter": "python",
   "pygments_lexer": "ipython3",
   "version": "3.8.8"
  }
 },
 "nbformat": 4,
 "nbformat_minor": 5
}
