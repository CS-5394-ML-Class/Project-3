{
 "cells": [
  {
   "cell_type": "markdown",
   "id": "5f77dde8-9f9d-4c9f-a8a7-f78f98a1377d",
   "metadata": {},
   "source": [
    "### Setup"
   ]
  },
  {
   "cell_type": "code",
   "execution_count": 110,
   "id": "5f8800e4-ae2a-4b81-8b89-0705ee9fca20",
   "metadata": {},
   "outputs": [],
   "source": [
    "import pandas as pd\n",
    "import numpy as np\n",
    "import sklearn as sk\n",
    "from sklearn.impute import SimpleImputer\n",
    "from sklearn.preprocessing import OrdinalEncoder\n",
    "from sklearn.preprocessing import OneHotEncoder"
   ]
  },
  {
   "cell_type": "code",
   "execution_count": 111,
   "id": "4cb4b838-fbf0-4af2-9eb9-4f05b4929dce",
   "metadata": {},
   "outputs": [],
   "source": [
    "DATA_PATH = \"uber.csv\""
   ]
  },
  {
   "cell_type": "markdown",
   "id": "d9c2b5bb-66c1-4866-a2ab-5c8b2e6e0bb0",
   "metadata": {},
   "source": [
    "### Loading In Data"
   ]
  },
  {
   "cell_type": "code",
   "execution_count": 112,
   "id": "1529e88b-cb22-459a-81dd-7db2f04fd8a5",
   "metadata": {},
   "outputs": [],
   "source": [
    "def load_uber_data(data_path=DATA_PATH):\n",
    "    return pd.read_csv(data_path)"
   ]
  },
  {
   "cell_type": "markdown",
   "id": "9073ca10-a8aa-48b6-9dc8-a80f16c03e32",
   "metadata": {},
   "source": [
    "### Cleaning Data"
   ]
  },
  {
   "cell_type": "code",
   "execution_count": 113,
   "id": "a849984d-f02f-4a89-8a1f-b384ead243ee",
   "metadata": {},
   "outputs": [],
   "source": [
    "data = load_uber_data()"
   ]
  },
  {
   "cell_type": "code",
   "execution_count": 114,
   "id": "dead55d6-a897-4754-b6cf-b4d7c54ad6ff",
   "metadata": {},
   "outputs": [
    {
     "data": {
      "text/html": [
       "<div>\n",
       "<style scoped>\n",
       "    .dataframe tbody tr th:only-of-type {\n",
       "        vertical-align: middle;\n",
       "    }\n",
       "\n",
       "    .dataframe tbody tr th {\n",
       "        vertical-align: top;\n",
       "    }\n",
       "\n",
       "    .dataframe thead th {\n",
       "        text-align: right;\n",
       "    }\n",
       "</style>\n",
       "<table border=\"1\" class=\"dataframe\">\n",
       "  <thead>\n",
       "    <tr style=\"text-align: right;\">\n",
       "      <th></th>\n",
       "      <th>Unnamed: 0</th>\n",
       "      <th>key</th>\n",
       "      <th>fare_amount</th>\n",
       "      <th>pickup_datetime</th>\n",
       "      <th>pickup_longitude</th>\n",
       "      <th>pickup_latitude</th>\n",
       "      <th>dropoff_longitude</th>\n",
       "      <th>dropoff_latitude</th>\n",
       "      <th>passenger_count</th>\n",
       "    </tr>\n",
       "  </thead>\n",
       "  <tbody>\n",
       "    <tr>\n",
       "      <th>0</th>\n",
       "      <td>24238194</td>\n",
       "      <td>2015-05-07 19:52:06.0000003</td>\n",
       "      <td>7.5</td>\n",
       "      <td>2015-05-07 19:52:06 UTC</td>\n",
       "      <td>-73.999817</td>\n",
       "      <td>40.738354</td>\n",
       "      <td>-73.999512</td>\n",
       "      <td>40.723217</td>\n",
       "      <td>1</td>\n",
       "    </tr>\n",
       "    <tr>\n",
       "      <th>1</th>\n",
       "      <td>27835199</td>\n",
       "      <td>2009-07-17 20:04:56.0000002</td>\n",
       "      <td>7.7</td>\n",
       "      <td>2009-07-17 20:04:56 UTC</td>\n",
       "      <td>-73.994355</td>\n",
       "      <td>40.728225</td>\n",
       "      <td>-73.994710</td>\n",
       "      <td>40.750325</td>\n",
       "      <td>1</td>\n",
       "    </tr>\n",
       "    <tr>\n",
       "      <th>2</th>\n",
       "      <td>44984355</td>\n",
       "      <td>2009-08-24 21:45:00.00000061</td>\n",
       "      <td>12.9</td>\n",
       "      <td>2009-08-24 21:45:00 UTC</td>\n",
       "      <td>-74.005043</td>\n",
       "      <td>40.740770</td>\n",
       "      <td>-73.962565</td>\n",
       "      <td>40.772647</td>\n",
       "      <td>1</td>\n",
       "    </tr>\n",
       "    <tr>\n",
       "      <th>3</th>\n",
       "      <td>25894730</td>\n",
       "      <td>2009-06-26 08:22:21.0000001</td>\n",
       "      <td>5.3</td>\n",
       "      <td>2009-06-26 08:22:21 UTC</td>\n",
       "      <td>-73.976124</td>\n",
       "      <td>40.790844</td>\n",
       "      <td>-73.965316</td>\n",
       "      <td>40.803349</td>\n",
       "      <td>3</td>\n",
       "    </tr>\n",
       "    <tr>\n",
       "      <th>4</th>\n",
       "      <td>17610152</td>\n",
       "      <td>2014-08-28 17:47:00.000000188</td>\n",
       "      <td>16.0</td>\n",
       "      <td>2014-08-28 17:47:00 UTC</td>\n",
       "      <td>-73.925023</td>\n",
       "      <td>40.744085</td>\n",
       "      <td>-73.973082</td>\n",
       "      <td>40.761247</td>\n",
       "      <td>5</td>\n",
       "    </tr>\n",
       "  </tbody>\n",
       "</table>\n",
       "</div>"
      ],
      "text/plain": [
       "   Unnamed: 0                            key  fare_amount  \\\n",
       "0    24238194    2015-05-07 19:52:06.0000003          7.5   \n",
       "1    27835199    2009-07-17 20:04:56.0000002          7.7   \n",
       "2    44984355   2009-08-24 21:45:00.00000061         12.9   \n",
       "3    25894730    2009-06-26 08:22:21.0000001          5.3   \n",
       "4    17610152  2014-08-28 17:47:00.000000188         16.0   \n",
       "\n",
       "           pickup_datetime  pickup_longitude  pickup_latitude  \\\n",
       "0  2015-05-07 19:52:06 UTC        -73.999817        40.738354   \n",
       "1  2009-07-17 20:04:56 UTC        -73.994355        40.728225   \n",
       "2  2009-08-24 21:45:00 UTC        -74.005043        40.740770   \n",
       "3  2009-06-26 08:22:21 UTC        -73.976124        40.790844   \n",
       "4  2014-08-28 17:47:00 UTC        -73.925023        40.744085   \n",
       "\n",
       "   dropoff_longitude  dropoff_latitude  passenger_count  \n",
       "0         -73.999512         40.723217                1  \n",
       "1         -73.994710         40.750325                1  \n",
       "2         -73.962565         40.772647                1  \n",
       "3         -73.965316         40.803349                3  \n",
       "4         -73.973082         40.761247                5  "
      ]
     },
     "execution_count": 114,
     "metadata": {},
     "output_type": "execute_result"
    }
   ],
   "source": [
    "data.head()"
   ]
  },
  {
   "cell_type": "code",
   "execution_count": 115,
   "id": "ddb403db-c9a4-4682-8d4c-18b9795492a1",
   "metadata": {},
   "outputs": [
    {
     "name": "stdout",
     "output_type": "stream",
     "text": [
      "<class 'pandas.core.frame.DataFrame'>\n",
      "RangeIndex: 200000 entries, 0 to 199999\n",
      "Data columns (total 9 columns):\n",
      " #   Column             Non-Null Count   Dtype  \n",
      "---  ------             --------------   -----  \n",
      " 0   Unnamed: 0         200000 non-null  int64  \n",
      " 1   key                200000 non-null  object \n",
      " 2   fare_amount        200000 non-null  float64\n",
      " 3   pickup_datetime    200000 non-null  object \n",
      " 4   pickup_longitude   200000 non-null  float64\n",
      " 5   pickup_latitude    200000 non-null  float64\n",
      " 6   dropoff_longitude  199999 non-null  float64\n",
      " 7   dropoff_latitude   199999 non-null  float64\n",
      " 8   passenger_count    200000 non-null  int64  \n",
      "dtypes: float64(5), int64(2), object(2)\n",
      "memory usage: 13.7+ MB\n"
     ]
    }
   ],
   "source": [
    "data.info()"
   ]
  },
  {
   "cell_type": "code",
   "execution_count": 116,
   "id": "b5c0e0c5-84e6-4422-a721-95418e23c069",
   "metadata": {},
   "outputs": [
    {
     "data": {
      "text/plain": [
       "SimpleImputer(strategy='median')"
      ]
     },
     "execution_count": 116,
     "metadata": {},
     "output_type": "execute_result"
    }
   ],
   "source": [
    "imputer = SimpleImputer(strategy=\"median\")\n",
    "data_num = data.drop(\"key\", axis=1)\n",
    "data_num = data_num.drop(\"pickup_datetime\", axis=1)\n",
    "imputer.fit(data_num)"
   ]
  },
  {
   "cell_type": "code",
   "execution_count": 117,
   "id": "9e91fd8f-48b7-4731-9b1c-faa5fb21f1bd",
   "metadata": {},
   "outputs": [
    {
     "name": "stdout",
     "output_type": "stream",
     "text": [
      "<class 'pandas.core.frame.DataFrame'>\n",
      "RangeIndex: 200000 entries, 0 to 199999\n",
      "Data columns (total 7 columns):\n",
      " #   Column             Non-Null Count   Dtype  \n",
      "---  ------             --------------   -----  \n",
      " 0   Unnamed: 0         200000 non-null  float64\n",
      " 1   fare_amount        200000 non-null  float64\n",
      " 2   pickup_longitude   200000 non-null  float64\n",
      " 3   pickup_latitude    200000 non-null  float64\n",
      " 4   dropoff_longitude  200000 non-null  float64\n",
      " 5   dropoff_latitude   200000 non-null  float64\n",
      " 6   passenger_count    200000 non-null  float64\n",
      "dtypes: float64(7)\n",
      "memory usage: 10.7 MB\n"
     ]
    }
   ],
   "source": [
    "X = imputer.transform(data_num)\n",
    "data_clean = pd.DataFrame(X, columns=data_num.columns,\n",
    "                          index=data_num.index)\n",
    "data_clean.info()"
   ]
  },
  {
   "cell_type": "markdown",
   "id": "39d27770-83b9-4a82-8790-294b3e7992be",
   "metadata": {},
   "source": [
    "### Ordinal Encoder "
   ]
  },
  {
   "cell_type": "code",
   "execution_count": 118,
   "id": "17ac9fac-ec4a-4f61-a728-a84f135e7eae",
   "metadata": {},
   "outputs": [
    {
     "data": {
      "text/html": [
       "<div>\n",
       "<style scoped>\n",
       "    .dataframe tbody tr th:only-of-type {\n",
       "        vertical-align: middle;\n",
       "    }\n",
       "\n",
       "    .dataframe tbody tr th {\n",
       "        vertical-align: top;\n",
       "    }\n",
       "\n",
       "    .dataframe thead th {\n",
       "        text-align: right;\n",
       "    }\n",
       "</style>\n",
       "<table border=\"1\" class=\"dataframe\">\n",
       "  <thead>\n",
       "    <tr style=\"text-align: right;\">\n",
       "      <th></th>\n",
       "      <th>key</th>\n",
       "      <th>pickup_datetime</th>\n",
       "    </tr>\n",
       "  </thead>\n",
       "  <tbody>\n",
       "    <tr>\n",
       "      <th>0</th>\n",
       "      <td>2015-05-07 19:52:06.0000003</td>\n",
       "      <td>2015-05-07 19:52:06 UTC</td>\n",
       "    </tr>\n",
       "    <tr>\n",
       "      <th>1</th>\n",
       "      <td>2009-07-17 20:04:56.0000002</td>\n",
       "      <td>2009-07-17 20:04:56 UTC</td>\n",
       "    </tr>\n",
       "    <tr>\n",
       "      <th>2</th>\n",
       "      <td>2009-08-24 21:45:00.00000061</td>\n",
       "      <td>2009-08-24 21:45:00 UTC</td>\n",
       "    </tr>\n",
       "    <tr>\n",
       "      <th>3</th>\n",
       "      <td>2009-06-26 08:22:21.0000001</td>\n",
       "      <td>2009-06-26 08:22:21 UTC</td>\n",
       "    </tr>\n",
       "    <tr>\n",
       "      <th>4</th>\n",
       "      <td>2014-08-28 17:47:00.000000188</td>\n",
       "      <td>2014-08-28 17:47:00 UTC</td>\n",
       "    </tr>\n",
       "    <tr>\n",
       "      <th>5</th>\n",
       "      <td>2011-02-12 02:27:09.0000006</td>\n",
       "      <td>2011-02-12 02:27:09 UTC</td>\n",
       "    </tr>\n",
       "    <tr>\n",
       "      <th>6</th>\n",
       "      <td>2014-10-12 07:04:00.0000002</td>\n",
       "      <td>2014-10-12 07:04:00 UTC</td>\n",
       "    </tr>\n",
       "    <tr>\n",
       "      <th>7</th>\n",
       "      <td>2012-12-11 13:52:00.00000029</td>\n",
       "      <td>2012-12-11 13:52:00 UTC</td>\n",
       "    </tr>\n",
       "    <tr>\n",
       "      <th>8</th>\n",
       "      <td>2012-02-17 09:32:00.00000043</td>\n",
       "      <td>2012-02-17 09:32:00 UTC</td>\n",
       "    </tr>\n",
       "    <tr>\n",
       "      <th>9</th>\n",
       "      <td>2012-03-29 19:06:00.000000273</td>\n",
       "      <td>2012-03-29 19:06:00 UTC</td>\n",
       "    </tr>\n",
       "  </tbody>\n",
       "</table>\n",
       "</div>"
      ],
      "text/plain": [
       "                             key          pickup_datetime\n",
       "0    2015-05-07 19:52:06.0000003  2015-05-07 19:52:06 UTC\n",
       "1    2009-07-17 20:04:56.0000002  2009-07-17 20:04:56 UTC\n",
       "2   2009-08-24 21:45:00.00000061  2009-08-24 21:45:00 UTC\n",
       "3    2009-06-26 08:22:21.0000001  2009-06-26 08:22:21 UTC\n",
       "4  2014-08-28 17:47:00.000000188  2014-08-28 17:47:00 UTC\n",
       "5    2011-02-12 02:27:09.0000006  2011-02-12 02:27:09 UTC\n",
       "6    2014-10-12 07:04:00.0000002  2014-10-12 07:04:00 UTC\n",
       "7   2012-12-11 13:52:00.00000029  2012-12-11 13:52:00 UTC\n",
       "8   2012-02-17 09:32:00.00000043  2012-02-17 09:32:00 UTC\n",
       "9  2012-03-29 19:06:00.000000273  2012-03-29 19:06:00 UTC"
      ]
     },
     "execution_count": 118,
     "metadata": {},
     "output_type": "execute_result"
    }
   ],
   "source": [
    "data_cat = data[[\"key\",\"pickup_datetime\"]]\n",
    "data_cat.head(10)"
   ]
  },
  {
   "cell_type": "code",
   "execution_count": 119,
   "id": "2e1ccfa3-1b44-4019-8a74-4c3ddc49bf58",
   "metadata": {},
   "outputs": [
    {
     "data": {
      "text/plain": [
       "array([[195992., 192625.],\n",
       "       [ 16590.,  16295.],\n",
       "       [ 19677.,  19335.],\n",
       "       [ 14916.,  14649.],\n",
       "       [176171., 172982.],\n",
       "       [ 64132.,  62968.],\n",
       "       [179789., 176538.],\n",
       "       [123310., 121114.],\n",
       "       [ 96971.,  95232.],\n",
       "       [100726.,  98922.]])"
      ]
     },
     "execution_count": 119,
     "metadata": {},
     "output_type": "execute_result"
    }
   ],
   "source": [
    "ordinal_encoder = OrdinalEncoder()\n",
    "data_cat_encoded = ordinal_encoder.fit_transform(data_cat)\n",
    "data_cat_encoded[:10]"
   ]
  },
  {
   "cell_type": "code",
   "execution_count": 120,
   "id": "3efd4768-7f84-401c-a759-44c8af488a5c",
   "metadata": {},
   "outputs": [
    {
     "data": {
      "text/plain": [
       "[array(['2009-01-01 01:15:22.0000006', '2009-01-01 01:59:17.0000001',\n",
       "        '2009-01-01 02:05:03.0000003', ..., '2015-06-30 23:31:06.0000002',\n",
       "        '2015-06-30 23:33:33.0000002', '2015-06-30 23:40:39.0000001'],\n",
       "       dtype=object),\n",
       " array(['2009-01-01 01:15:22 UTC', '2009-01-01 01:59:17 UTC',\n",
       "        '2009-01-01 02:05:03 UTC', ..., '2015-06-30 23:31:06 UTC',\n",
       "        '2015-06-30 23:33:33 UTC', '2015-06-30 23:40:39 UTC'], dtype=object)]"
      ]
     },
     "execution_count": 120,
     "metadata": {},
     "output_type": "execute_result"
    }
   ],
   "source": [
    "ordinal_encoder.categories_"
   ]
  },
  {
   "cell_type": "markdown",
   "id": "b5d3b102-fb7f-4a17-8152-aa9042383957",
   "metadata": {},
   "source": [
    "### One Hot Encoder"
   ]
  },
  {
   "cell_type": "code",
   "execution_count": 121,
   "id": "4ecbaf2c-2186-4831-bc03-28dcd031c697",
   "metadata": {},
   "outputs": [
    {
     "data": {
      "text/plain": [
       "<200000x396629 sparse matrix of type '<class 'numpy.float64'>'\n",
       "\twith 400000 stored elements in Compressed Sparse Row format>"
      ]
     },
     "execution_count": 121,
     "metadata": {},
     "output_type": "execute_result"
    }
   ],
   "source": [
    "cat_encoder = OneHotEncoder()\n",
    "data_cat_1hot = cat_encoder.fit_transform(data_cat)\n",
    "data_cat_1hot"
   ]
  },
  {
   "cell_type": "code",
   "execution_count": 122,
   "id": "333dacd7-1971-47ec-a3af-540ea4b3c208",
   "metadata": {},
   "outputs": [
    {
     "data": {
      "text/plain": [
       "array([[0., 0., 0., ..., 0., 0., 0.],\n",
       "       [0., 0., 0., ..., 0., 0., 0.],\n",
       "       [0., 0., 0., ..., 0., 0., 0.],\n",
       "       ...,\n",
       "       [0., 0., 0., ..., 0., 0., 0.],\n",
       "       [0., 0., 0., ..., 0., 0., 0.],\n",
       "       [0., 0., 0., ..., 0., 0., 0.]])"
      ]
     },
     "execution_count": 122,
     "metadata": {},
     "output_type": "execute_result"
    }
   ],
   "source": [
    "data_cat_1hot.toarray()"
   ]
  },
  {
   "cell_type": "code",
   "execution_count": 123,
   "id": "01dfd486-a53e-4c22-8bfb-d39c8cd4b383",
   "metadata": {},
   "outputs": [
    {
     "data": {
      "text/plain": [
       "[array(['2009-01-01 01:15:22.0000006', '2009-01-01 01:59:17.0000001',\n",
       "        '2009-01-01 02:05:03.0000003', ..., '2015-06-30 23:31:06.0000002',\n",
       "        '2015-06-30 23:33:33.0000002', '2015-06-30 23:40:39.0000001'],\n",
       "       dtype=object),\n",
       " array(['2009-01-01 01:15:22 UTC', '2009-01-01 01:59:17 UTC',\n",
       "        '2009-01-01 02:05:03 UTC', ..., '2015-06-30 23:31:06 UTC',\n",
       "        '2015-06-30 23:33:33 UTC', '2015-06-30 23:40:39 UTC'], dtype=object)]"
      ]
     },
     "execution_count": 123,
     "metadata": {},
     "output_type": "execute_result"
    }
   ],
   "source": [
    "cat_encoder.categories_"
   ]
  },
  {
   "cell_type": "code",
   "execution_count": null,
   "id": "9545ffdc-1baf-487c-b6b2-3796a01958d4",
   "metadata": {},
   "outputs": [],
   "source": []
  },
  {
   "cell_type": "code",
   "execution_count": null,
   "id": "82d7e225-68d9-4b5c-8c57-85dc87773f11",
   "metadata": {},
   "outputs": [],
   "source": []
  }
 ],
 "metadata": {
  "kernelspec": {
   "display_name": "Python 3 (ipykernel)",
   "language": "python",
   "name": "python3"
  },
  "language_info": {
   "codemirror_mode": {
    "name": "ipython",
    "version": 3
   },
   "file_extension": ".py",
   "mimetype": "text/x-python",
   "name": "python",
   "nbconvert_exporter": "python",
   "pygments_lexer": "ipython3",
   "version": "3.9.7"
  }
 },
 "nbformat": 4,
 "nbformat_minor": 5
}
