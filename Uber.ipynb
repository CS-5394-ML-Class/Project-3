{
 "cells": [
  {
   "cell_type": "markdown",
   "id": "5f77dde8-9f9d-4c9f-a8a7-f78f98a1377d",
   "metadata": {},
   "source": [
    "### Setup"
   ]
  },
  {
   "cell_type": "code",
   "execution_count": 45,
   "id": "5f8800e4-ae2a-4b81-8b89-0705ee9fca20",
   "metadata": {},
   "outputs": [],
   "source": [
    "import pandas as pd\n",
    "import numpy as np\n",
    "import sklearn as sk\n",
    "from sklearn.impute import SimpleImputer\n",
    "from sklearn.preprocessing import OrdinalEncoder\n",
    "from sklearn.preprocessing import OneHotEncoder\n",
    "import geopy.distance\n",
    "from sklearn.base import BaseEstimator, TransformerMixin\n",
    "from sklearn.preprocessing import StandardScaler"
   ]
  },
  {
   "cell_type": "code",
   "execution_count": 46,
   "id": "4cb4b838-fbf0-4af2-9eb9-4f05b4929dce",
   "metadata": {},
   "outputs": [],
   "source": [
    "DATA_PATH = \"uber.csv\""
   ]
  },
  {
   "cell_type": "markdown",
   "id": "d9c2b5bb-66c1-4866-a2ab-5c8b2e6e0bb0",
   "metadata": {},
   "source": [
    "### Loading In Data"
   ]
  },
  {
   "cell_type": "code",
   "execution_count": 47,
   "id": "1529e88b-cb22-459a-81dd-7db2f04fd8a5",
   "metadata": {},
   "outputs": [],
   "source": [
    "def load_uber_data(data_path=DATA_PATH):\n",
    "    return pd.read_csv(data_path)"
   ]
  },
  {
   "cell_type": "markdown",
   "id": "9073ca10-a8aa-48b6-9dc8-a80f16c03e32",
   "metadata": {},
   "source": [
    "### Cleaning Data"
   ]
  },
  {
   "cell_type": "code",
   "execution_count": 48,
   "id": "a849984d-f02f-4a89-8a1f-b384ead243ee",
   "metadata": {},
   "outputs": [],
   "source": [
    "data = load_uber_data()"
   ]
  },
  {
   "cell_type": "code",
   "execution_count": 49,
   "id": "dead55d6-a897-4754-b6cf-b4d7c54ad6ff",
   "metadata": {},
   "outputs": [
    {
     "output_type": "execute_result",
     "data": {
      "text/plain": [
       "   Unnamed: 0                            key  fare_amount  \\\n",
       "0    24238194    2015-05-07 19:52:06.0000003          7.5   \n",
       "1    27835199    2009-07-17 20:04:56.0000002          7.7   \n",
       "2    44984355   2009-08-24 21:45:00.00000061         12.9   \n",
       "3    25894730    2009-06-26 08:22:21.0000001          5.3   \n",
       "4    17610152  2014-08-28 17:47:00.000000188         16.0   \n",
       "\n",
       "           pickup_datetime  pickup_longitude  pickup_latitude  \\\n",
       "0  2015-05-07 19:52:06 UTC        -73.999817        40.738354   \n",
       "1  2009-07-17 20:04:56 UTC        -73.994355        40.728225   \n",
       "2  2009-08-24 21:45:00 UTC        -74.005043        40.740770   \n",
       "3  2009-06-26 08:22:21 UTC        -73.976124        40.790844   \n",
       "4  2014-08-28 17:47:00 UTC        -73.925023        40.744085   \n",
       "\n",
       "   dropoff_longitude  dropoff_latitude  passenger_count  \n",
       "0         -73.999512         40.723217                1  \n",
       "1         -73.994710         40.750325                1  \n",
       "2         -73.962565         40.772647                1  \n",
       "3         -73.965316         40.803349                3  \n",
       "4         -73.973082         40.761247                5  "
      ],
      "text/html": "<div>\n<style scoped>\n    .dataframe tbody tr th:only-of-type {\n        vertical-align: middle;\n    }\n\n    .dataframe tbody tr th {\n        vertical-align: top;\n    }\n\n    .dataframe thead th {\n        text-align: right;\n    }\n</style>\n<table border=\"1\" class=\"dataframe\">\n  <thead>\n    <tr style=\"text-align: right;\">\n      <th></th>\n      <th>Unnamed: 0</th>\n      <th>key</th>\n      <th>fare_amount</th>\n      <th>pickup_datetime</th>\n      <th>pickup_longitude</th>\n      <th>pickup_latitude</th>\n      <th>dropoff_longitude</th>\n      <th>dropoff_latitude</th>\n      <th>passenger_count</th>\n    </tr>\n  </thead>\n  <tbody>\n    <tr>\n      <th>0</th>\n      <td>24238194</td>\n      <td>2015-05-07 19:52:06.0000003</td>\n      <td>7.5</td>\n      <td>2015-05-07 19:52:06 UTC</td>\n      <td>-73.999817</td>\n      <td>40.738354</td>\n      <td>-73.999512</td>\n      <td>40.723217</td>\n      <td>1</td>\n    </tr>\n    <tr>\n      <th>1</th>\n      <td>27835199</td>\n      <td>2009-07-17 20:04:56.0000002</td>\n      <td>7.7</td>\n      <td>2009-07-17 20:04:56 UTC</td>\n      <td>-73.994355</td>\n      <td>40.728225</td>\n      <td>-73.994710</td>\n      <td>40.750325</td>\n      <td>1</td>\n    </tr>\n    <tr>\n      <th>2</th>\n      <td>44984355</td>\n      <td>2009-08-24 21:45:00.00000061</td>\n      <td>12.9</td>\n      <td>2009-08-24 21:45:00 UTC</td>\n      <td>-74.005043</td>\n      <td>40.740770</td>\n      <td>-73.962565</td>\n      <td>40.772647</td>\n      <td>1</td>\n    </tr>\n    <tr>\n      <th>3</th>\n      <td>25894730</td>\n      <td>2009-06-26 08:22:21.0000001</td>\n      <td>5.3</td>\n      <td>2009-06-26 08:22:21 UTC</td>\n      <td>-73.976124</td>\n      <td>40.790844</td>\n      <td>-73.965316</td>\n      <td>40.803349</td>\n      <td>3</td>\n    </tr>\n    <tr>\n      <th>4</th>\n      <td>17610152</td>\n      <td>2014-08-28 17:47:00.000000188</td>\n      <td>16.0</td>\n      <td>2014-08-28 17:47:00 UTC</td>\n      <td>-73.925023</td>\n      <td>40.744085</td>\n      <td>-73.973082</td>\n      <td>40.761247</td>\n      <td>5</td>\n    </tr>\n  </tbody>\n</table>\n</div>"
     },
     "metadata": {},
     "execution_count": 49
    }
   ],
   "source": [
    "data.head()"
   ]
  },
  {
   "cell_type": "code",
   "execution_count": 50,
   "id": "ddb403db-c9a4-4682-8d4c-18b9795492a1",
   "metadata": {},
   "outputs": [
    {
     "output_type": "stream",
     "name": "stdout",
     "text": [
      "<class 'pandas.core.frame.DataFrame'>\nRangeIndex: 200000 entries, 0 to 199999\nData columns (total 9 columns):\n #   Column             Non-Null Count   Dtype  \n---  ------             --------------   -----  \n 0   Unnamed: 0         200000 non-null  int64  \n 1   key                200000 non-null  object \n 2   fare_amount        200000 non-null  float64\n 3   pickup_datetime    200000 non-null  object \n 4   pickup_longitude   200000 non-null  float64\n 5   pickup_latitude    200000 non-null  float64\n 6   dropoff_longitude  199999 non-null  float64\n 7   dropoff_latitude   199999 non-null  float64\n 8   passenger_count    200000 non-null  int64  \ndtypes: float64(5), int64(2), object(2)\nmemory usage: 13.7+ MB\n"
     ]
    }
   ],
   "source": [
    "data.info()"
   ]
  },
  {
   "cell_type": "code",
   "execution_count": 51,
   "id": "b5c0e0c5-84e6-4422-a721-95418e23c069",
   "metadata": {},
   "outputs": [
    {
     "output_type": "execute_result",
     "data": {
      "text/plain": [
       "SimpleImputer(strategy='median')"
      ]
     },
     "metadata": {},
     "execution_count": 51
    }
   ],
   "source": [
    "imputer = SimpleImputer(strategy=\"median\")\n",
    "data_num = data.drop(\"key\", axis=1)\n",
    "data_num = data_num.drop(\"pickup_datetime\", axis=1)\n",
    "imputer.fit(data_num)"
   ]
  },
  {
   "cell_type": "code",
   "execution_count": 52,
   "id": "9e91fd8f-48b7-4731-9b1c-faa5fb21f1bd",
   "metadata": {},
   "outputs": [
    {
     "output_type": "stream",
     "name": "stdout",
     "text": [
      "<class 'pandas.core.frame.DataFrame'>\nRangeIndex: 200000 entries, 0 to 199999\nData columns (total 7 columns):\n #   Column             Non-Null Count   Dtype  \n---  ------             --------------   -----  \n 0   Unnamed: 0         200000 non-null  float64\n 1   fare_amount        200000 non-null  float64\n 2   pickup_longitude   200000 non-null  float64\n 3   pickup_latitude    200000 non-null  float64\n 4   dropoff_longitude  200000 non-null  float64\n 5   dropoff_latitude   200000 non-null  float64\n 6   passenger_count    200000 non-null  float64\ndtypes: float64(7)\nmemory usage: 10.7 MB\n"
     ]
    }
   ],
   "source": [
    "X = imputer.transform(data_num)\n",
    "data_clean = pd.DataFrame(X, columns=data_num.columns,\n",
    "                          index=data_num.index)\n",
    "data_clean.info()"
   ]
  },
  {
   "cell_type": "markdown",
   "id": "39d27770-83b9-4a82-8790-294b3e7992be",
   "metadata": {},
   "source": [
    "### Ordinal Encoder "
   ]
  },
  {
   "cell_type": "code",
   "execution_count": 53,
   "id": "17ac9fac-ec4a-4f61-a728-a84f135e7eae",
   "metadata": {},
   "outputs": [
    {
     "output_type": "execute_result",
     "data": {
      "text/plain": [
       "                             key          pickup_datetime\n",
       "0    2015-05-07 19:52:06.0000003  2015-05-07 19:52:06 UTC\n",
       "1    2009-07-17 20:04:56.0000002  2009-07-17 20:04:56 UTC\n",
       "2   2009-08-24 21:45:00.00000061  2009-08-24 21:45:00 UTC\n",
       "3    2009-06-26 08:22:21.0000001  2009-06-26 08:22:21 UTC\n",
       "4  2014-08-28 17:47:00.000000188  2014-08-28 17:47:00 UTC\n",
       "5    2011-02-12 02:27:09.0000006  2011-02-12 02:27:09 UTC\n",
       "6    2014-10-12 07:04:00.0000002  2014-10-12 07:04:00 UTC\n",
       "7   2012-12-11 13:52:00.00000029  2012-12-11 13:52:00 UTC\n",
       "8   2012-02-17 09:32:00.00000043  2012-02-17 09:32:00 UTC\n",
       "9  2012-03-29 19:06:00.000000273  2012-03-29 19:06:00 UTC"
      ],
      "text/html": "<div>\n<style scoped>\n    .dataframe tbody tr th:only-of-type {\n        vertical-align: middle;\n    }\n\n    .dataframe tbody tr th {\n        vertical-align: top;\n    }\n\n    .dataframe thead th {\n        text-align: right;\n    }\n</style>\n<table border=\"1\" class=\"dataframe\">\n  <thead>\n    <tr style=\"text-align: right;\">\n      <th></th>\n      <th>key</th>\n      <th>pickup_datetime</th>\n    </tr>\n  </thead>\n  <tbody>\n    <tr>\n      <th>0</th>\n      <td>2015-05-07 19:52:06.0000003</td>\n      <td>2015-05-07 19:52:06 UTC</td>\n    </tr>\n    <tr>\n      <th>1</th>\n      <td>2009-07-17 20:04:56.0000002</td>\n      <td>2009-07-17 20:04:56 UTC</td>\n    </tr>\n    <tr>\n      <th>2</th>\n      <td>2009-08-24 21:45:00.00000061</td>\n      <td>2009-08-24 21:45:00 UTC</td>\n    </tr>\n    <tr>\n      <th>3</th>\n      <td>2009-06-26 08:22:21.0000001</td>\n      <td>2009-06-26 08:22:21 UTC</td>\n    </tr>\n    <tr>\n      <th>4</th>\n      <td>2014-08-28 17:47:00.000000188</td>\n      <td>2014-08-28 17:47:00 UTC</td>\n    </tr>\n    <tr>\n      <th>5</th>\n      <td>2011-02-12 02:27:09.0000006</td>\n      <td>2011-02-12 02:27:09 UTC</td>\n    </tr>\n    <tr>\n      <th>6</th>\n      <td>2014-10-12 07:04:00.0000002</td>\n      <td>2014-10-12 07:04:00 UTC</td>\n    </tr>\n    <tr>\n      <th>7</th>\n      <td>2012-12-11 13:52:00.00000029</td>\n      <td>2012-12-11 13:52:00 UTC</td>\n    </tr>\n    <tr>\n      <th>8</th>\n      <td>2012-02-17 09:32:00.00000043</td>\n      <td>2012-02-17 09:32:00 UTC</td>\n    </tr>\n    <tr>\n      <th>9</th>\n      <td>2012-03-29 19:06:00.000000273</td>\n      <td>2012-03-29 19:06:00 UTC</td>\n    </tr>\n  </tbody>\n</table>\n</div>"
     },
     "metadata": {},
     "execution_count": 53
    }
   ],
   "source": [
    "data_cat = data[[\"key\",\"pickup_datetime\"]]\n",
    "data_cat.head(10)"
   ]
  },
  {
   "cell_type": "code",
   "execution_count": 54,
   "id": "2e1ccfa3-1b44-4019-8a74-4c3ddc49bf58",
   "metadata": {},
   "outputs": [
    {
     "output_type": "execute_result",
     "data": {
      "text/plain": [
       "array([[195992., 192625.],\n",
       "       [ 16590.,  16295.],\n",
       "       [ 19677.,  19335.],\n",
       "       [ 14916.,  14649.],\n",
       "       [176171., 172982.],\n",
       "       [ 64132.,  62968.],\n",
       "       [179789., 176538.],\n",
       "       [123310., 121114.],\n",
       "       [ 96971.,  95232.],\n",
       "       [100726.,  98922.]])"
      ]
     },
     "metadata": {},
     "execution_count": 54
    }
   ],
   "source": [
    "ordinal_encoder = OrdinalEncoder()\n",
    "data_cat_encoded = ordinal_encoder.fit_transform(data_cat)\n",
    "data_cat_encoded[:10]"
   ]
  },
  {
   "cell_type": "code",
   "execution_count": 55,
   "id": "3efd4768-7f84-401c-a759-44c8af488a5c",
   "metadata": {},
   "outputs": [
    {
     "output_type": "execute_result",
     "data": {
      "text/plain": [
       "[array(['2009-01-01 01:15:22.0000006', '2009-01-01 01:59:17.0000001',\n",
       "        '2009-01-01 02:05:03.0000003', ..., '2015-06-30 23:31:06.0000002',\n",
       "        '2015-06-30 23:33:33.0000002', '2015-06-30 23:40:39.0000001'],\n",
       "       dtype=object),\n",
       " array(['2009-01-01 01:15:22 UTC', '2009-01-01 01:59:17 UTC',\n",
       "        '2009-01-01 02:05:03 UTC', ..., '2015-06-30 23:31:06 UTC',\n",
       "        '2015-06-30 23:33:33 UTC', '2015-06-30 23:40:39 UTC'], dtype=object)]"
      ]
     },
     "metadata": {},
     "execution_count": 55
    }
   ],
   "source": [
    "ordinal_encoder.categories_"
   ]
  },
  {
   "cell_type": "markdown",
   "id": "b5d3b102-fb7f-4a17-8152-aa9042383957",
   "metadata": {},
   "source": [
    "### One Hot Encoder"
   ]
  },
  {
   "cell_type": "code",
   "execution_count": 56,
   "id": "4ecbaf2c-2186-4831-bc03-28dcd031c697",
   "metadata": {},
   "outputs": [
    {
     "output_type": "execute_result",
     "data": {
      "text/plain": [
       "<200000x396629 sparse matrix of type '<class 'numpy.float64'>'\n",
       "\twith 400000 stored elements in Compressed Sparse Row format>"
      ]
     },
     "metadata": {},
     "execution_count": 56
    }
   ],
   "source": [
    "cat_encoder = OneHotEncoder()\n",
    "data_cat_1hot = cat_encoder.fit_transform(data_cat)\n",
    "data_cat_1hot"
   ]
  },
  {
   "cell_type": "code",
   "execution_count": 57,
   "id": "333dacd7-1971-47ec-a3af-540ea4b3c208",
   "metadata": {},
   "outputs": [
    {
     "output_type": "execute_result",
     "data": {
      "text/plain": [
       "array([[0., 0., 0., ..., 0., 0., 0.],\n",
       "       [0., 0., 0., ..., 0., 0., 0.],\n",
       "       [0., 0., 0., ..., 0., 0., 0.],\n",
       "       ...,\n",
       "       [0., 0., 0., ..., 0., 0., 0.],\n",
       "       [0., 0., 0., ..., 0., 0., 0.],\n",
       "       [0., 0., 0., ..., 0., 0., 0.]])"
      ]
     },
     "metadata": {},
     "execution_count": 57
    }
   ],
   "source": [
    "data_cat_1hot.toarray()"
   ]
  },
  {
   "cell_type": "code",
   "execution_count": 58,
   "id": "5c1d9fbf-1fa3-4622-a8c0-550cbfe5c8eb",
   "metadata": {},
   "outputs": [
    {
     "output_type": "execute_result",
     "data": {
      "text/plain": [
       "[array(['2009-01-01 01:15:22.0000006', '2009-01-01 01:59:17.0000001',\n",
       "        '2009-01-01 02:05:03.0000003', ..., '2015-06-30 23:31:06.0000002',\n",
       "        '2015-06-30 23:33:33.0000002', '2015-06-30 23:40:39.0000001'],\n",
       "       dtype=object),\n",
       " array(['2009-01-01 01:15:22 UTC', '2009-01-01 01:59:17 UTC',\n",
       "        '2009-01-01 02:05:03 UTC', ..., '2015-06-30 23:31:06 UTC',\n",
       "        '2015-06-30 23:33:33 UTC', '2015-06-30 23:40:39 UTC'], dtype=object)]"
      ]
     },
     "metadata": {},
     "execution_count": 58
    }
   ],
   "source": [
    "cat_encoder.categories_"
   ]
  },
  {
   "cell_type": "markdown",
   "id": "0654cc3d-1b7b-466c-9419-0a7593c1586f",
   "metadata": {},
   "source": [
    "### Transformer"
   ]
  },
  {
   "cell_type": "code",
   "execution_count": 59,
   "id": "82d7e225-68d9-4b5c-8c57-85dc87773f11",
   "metadata": {},
   "outputs": [
    {
     "output_type": "execute_result",
     "data": {
      "text/plain": [
       "        Unnamed: 0  fare_amount  pickup_longitude  pickup_latitude  \\\n",
       "0       24238194.0          7.5        -73.999817        40.738354   \n",
       "1       27835199.0          7.7        -73.994355        40.728225   \n",
       "2       44984355.0         12.9        -74.005043        40.740770   \n",
       "3       25894730.0          5.3        -73.976124        40.790844   \n",
       "4       17610152.0         16.0        -73.925023        40.744085   \n",
       "...            ...          ...               ...              ...   \n",
       "199995  42598914.0          3.0        -73.987042        40.739367   \n",
       "199996  16382965.0          7.5        -73.984722        40.736837   \n",
       "199997  27804658.0         30.9        -73.986017        40.756487   \n",
       "199998  20259894.0         14.5        -73.997124        40.725452   \n",
       "199999  11951496.0         14.1        -73.984395        40.720077   \n",
       "\n",
       "        dropoff_longitude  dropoff_latitude  passenger_count  \\\n",
       "0              -73.999512         40.723217              1.0   \n",
       "1              -73.994710         40.750325              1.0   \n",
       "2              -73.962565         40.772647              1.0   \n",
       "3              -73.965316         40.803349              3.0   \n",
       "4              -73.973082         40.761247              5.0   \n",
       "...                   ...               ...              ...   \n",
       "199995         -73.986525         40.740297              1.0   \n",
       "199996         -74.006672         40.739620              1.0   \n",
       "199997         -73.858957         40.692588              2.0   \n",
       "199998         -73.983215         40.695415              1.0   \n",
       "199999         -73.985508         40.768793              1.0   \n",
       "\n",
       "        cost_per_passenger  \n",
       "0                     7.50  \n",
       "1                     7.70  \n",
       "2                    12.90  \n",
       "3                     1.77  \n",
       "4                     3.20  \n",
       "...                    ...  \n",
       "199995                3.00  \n",
       "199996                7.50  \n",
       "199997               15.45  \n",
       "199998               14.50  \n",
       "199999               14.10  \n",
       "\n",
       "[200000 rows x 8 columns]"
      ],
      "text/html": "<div>\n<style scoped>\n    .dataframe tbody tr th:only-of-type {\n        vertical-align: middle;\n    }\n\n    .dataframe tbody tr th {\n        vertical-align: top;\n    }\n\n    .dataframe thead th {\n        text-align: right;\n    }\n</style>\n<table border=\"1\" class=\"dataframe\">\n  <thead>\n    <tr style=\"text-align: right;\">\n      <th></th>\n      <th>Unnamed: 0</th>\n      <th>fare_amount</th>\n      <th>pickup_longitude</th>\n      <th>pickup_latitude</th>\n      <th>dropoff_longitude</th>\n      <th>dropoff_latitude</th>\n      <th>passenger_count</th>\n      <th>cost_per_passenger</th>\n    </tr>\n  </thead>\n  <tbody>\n    <tr>\n      <th>0</th>\n      <td>24238194.0</td>\n      <td>7.5</td>\n      <td>-73.999817</td>\n      <td>40.738354</td>\n      <td>-73.999512</td>\n      <td>40.723217</td>\n      <td>1.0</td>\n      <td>7.50</td>\n    </tr>\n    <tr>\n      <th>1</th>\n      <td>27835199.0</td>\n      <td>7.7</td>\n      <td>-73.994355</td>\n      <td>40.728225</td>\n      <td>-73.994710</td>\n      <td>40.750325</td>\n      <td>1.0</td>\n      <td>7.70</td>\n    </tr>\n    <tr>\n      <th>2</th>\n      <td>44984355.0</td>\n      <td>12.9</td>\n      <td>-74.005043</td>\n      <td>40.740770</td>\n      <td>-73.962565</td>\n      <td>40.772647</td>\n      <td>1.0</td>\n      <td>12.90</td>\n    </tr>\n    <tr>\n      <th>3</th>\n      <td>25894730.0</td>\n      <td>5.3</td>\n      <td>-73.976124</td>\n      <td>40.790844</td>\n      <td>-73.965316</td>\n      <td>40.803349</td>\n      <td>3.0</td>\n      <td>1.77</td>\n    </tr>\n    <tr>\n      <th>4</th>\n      <td>17610152.0</td>\n      <td>16.0</td>\n      <td>-73.925023</td>\n      <td>40.744085</td>\n      <td>-73.973082</td>\n      <td>40.761247</td>\n      <td>5.0</td>\n      <td>3.20</td>\n    </tr>\n    <tr>\n      <th>...</th>\n      <td>...</td>\n      <td>...</td>\n      <td>...</td>\n      <td>...</td>\n      <td>...</td>\n      <td>...</td>\n      <td>...</td>\n      <td>...</td>\n    </tr>\n    <tr>\n      <th>199995</th>\n      <td>42598914.0</td>\n      <td>3.0</td>\n      <td>-73.987042</td>\n      <td>40.739367</td>\n      <td>-73.986525</td>\n      <td>40.740297</td>\n      <td>1.0</td>\n      <td>3.00</td>\n    </tr>\n    <tr>\n      <th>199996</th>\n      <td>16382965.0</td>\n      <td>7.5</td>\n      <td>-73.984722</td>\n      <td>40.736837</td>\n      <td>-74.006672</td>\n      <td>40.739620</td>\n      <td>1.0</td>\n      <td>7.50</td>\n    </tr>\n    <tr>\n      <th>199997</th>\n      <td>27804658.0</td>\n      <td>30.9</td>\n      <td>-73.986017</td>\n      <td>40.756487</td>\n      <td>-73.858957</td>\n      <td>40.692588</td>\n      <td>2.0</td>\n      <td>15.45</td>\n    </tr>\n    <tr>\n      <th>199998</th>\n      <td>20259894.0</td>\n      <td>14.5</td>\n      <td>-73.997124</td>\n      <td>40.725452</td>\n      <td>-73.983215</td>\n      <td>40.695415</td>\n      <td>1.0</td>\n      <td>14.50</td>\n    </tr>\n    <tr>\n      <th>199999</th>\n      <td>11951496.0</td>\n      <td>14.1</td>\n      <td>-73.984395</td>\n      <td>40.720077</td>\n      <td>-73.985508</td>\n      <td>40.768793</td>\n      <td>1.0</td>\n      <td>14.10</td>\n    </tr>\n  </tbody>\n</table>\n<p>200000 rows × 8 columns</p>\n</div>"
     },
     "metadata": {},
     "execution_count": 59
    }
   ],
   "source": [
    "class calculateCostPer(BaseEstimator, TransformerMixin):\n",
    "    def __init__(self, find_distance=True):\n",
    "        self.find_distance = find_distance\n",
    "    def fit(self, X, y=None):\n",
    "        return self\n",
    "    def transform(self, X):\n",
    "        X[\"cost_per_passenger\"] = (X[\"fare_amount\"]/X[\"passenger_count\"]).round(2)\n",
    "        return X\n",
    "        \n",
    "costPer_adder = calculateCostPer(find_distance=False)\n",
    "data_clean = costPer_adder.transform(data_clean)\n",
    "\n",
    "data_clean"
   ]
  },
  {
   "cell_type": "markdown",
   "id": "b9c725b7-6217-4842-8138-05f9e5deefc4",
   "metadata": {},
   "source": [
    "### Calculating Distance"
   ]
  },
  {
   "cell_type": "code",
   "execution_count": 60,
   "id": "70cd8507-f806-4dbd-8b31-bf70a9be1832",
   "metadata": {},
   "outputs": [
    {
     "output_type": "execute_result",
     "data": {
      "text/plain": [
       "        Unnamed: 0  fare_amount  pickup_longitude  pickup_latitude  \\\n",
       "0       24238194.0          7.5        -73.999817        40.738354   \n",
       "1       27835199.0          7.7        -73.994355        40.728225   \n",
       "2       44984355.0         12.9        -74.005043        40.740770   \n",
       "3       25894730.0          5.3        -73.976124        40.790844   \n",
       "4       17610152.0         16.0        -73.925023        40.744085   \n",
       "...            ...          ...               ...              ...   \n",
       "199995  42598914.0          3.0        -73.987042        40.739367   \n",
       "199996  16382965.0          7.5        -73.984722        40.736837   \n",
       "199997  27804658.0         30.9        -73.986017        40.756487   \n",
       "199998  20259894.0         14.5        -73.997124        40.725452   \n",
       "199999  11951496.0         14.1        -73.984395        40.720077   \n",
       "\n",
       "        dropoff_longitude  dropoff_latitude  passenger_count  \\\n",
       "0              -73.999512         40.723217              1.0   \n",
       "1              -73.994710         40.750325              1.0   \n",
       "2              -73.962565         40.772647              1.0   \n",
       "3              -73.965316         40.803349              3.0   \n",
       "4              -73.973082         40.761247              5.0   \n",
       "...                   ...               ...              ...   \n",
       "199995         -73.986525         40.740297              1.0   \n",
       "199996         -74.006672         40.739620              1.0   \n",
       "199997         -73.858957         40.692588              2.0   \n",
       "199998         -73.983215         40.695415              1.0   \n",
       "199999         -73.985508         40.768793              1.0   \n",
       "\n",
       "        cost_per_passenger   distance  \n",
       "0                     7.50   1.683323  \n",
       "1                     7.70   2.457590  \n",
       "2                    12.90   5.036377  \n",
       "3                     1.77   1.661683  \n",
       "4                     3.20   4.475450  \n",
       "...                    ...        ...  \n",
       "199995                3.00   0.112210  \n",
       "199996                7.50   1.875050  \n",
       "199997               15.45  12.850319  \n",
       "199998               14.50   3.539715  \n",
       "199999               14.10   5.417783  \n",
       "\n",
       "[200000 rows x 9 columns]"
      ],
      "text/html": "<div>\n<style scoped>\n    .dataframe tbody tr th:only-of-type {\n        vertical-align: middle;\n    }\n\n    .dataframe tbody tr th {\n        vertical-align: top;\n    }\n\n    .dataframe thead th {\n        text-align: right;\n    }\n</style>\n<table border=\"1\" class=\"dataframe\">\n  <thead>\n    <tr style=\"text-align: right;\">\n      <th></th>\n      <th>Unnamed: 0</th>\n      <th>fare_amount</th>\n      <th>pickup_longitude</th>\n      <th>pickup_latitude</th>\n      <th>dropoff_longitude</th>\n      <th>dropoff_latitude</th>\n      <th>passenger_count</th>\n      <th>cost_per_passenger</th>\n      <th>distance</th>\n    </tr>\n  </thead>\n  <tbody>\n    <tr>\n      <th>0</th>\n      <td>24238194.0</td>\n      <td>7.5</td>\n      <td>-73.999817</td>\n      <td>40.738354</td>\n      <td>-73.999512</td>\n      <td>40.723217</td>\n      <td>1.0</td>\n      <td>7.50</td>\n      <td>1.683323</td>\n    </tr>\n    <tr>\n      <th>1</th>\n      <td>27835199.0</td>\n      <td>7.7</td>\n      <td>-73.994355</td>\n      <td>40.728225</td>\n      <td>-73.994710</td>\n      <td>40.750325</td>\n      <td>1.0</td>\n      <td>7.70</td>\n      <td>2.457590</td>\n    </tr>\n    <tr>\n      <th>2</th>\n      <td>44984355.0</td>\n      <td>12.9</td>\n      <td>-74.005043</td>\n      <td>40.740770</td>\n      <td>-73.962565</td>\n      <td>40.772647</td>\n      <td>1.0</td>\n      <td>12.90</td>\n      <td>5.036377</td>\n    </tr>\n    <tr>\n      <th>3</th>\n      <td>25894730.0</td>\n      <td>5.3</td>\n      <td>-73.976124</td>\n      <td>40.790844</td>\n      <td>-73.965316</td>\n      <td>40.803349</td>\n      <td>3.0</td>\n      <td>1.77</td>\n      <td>1.661683</td>\n    </tr>\n    <tr>\n      <th>4</th>\n      <td>17610152.0</td>\n      <td>16.0</td>\n      <td>-73.925023</td>\n      <td>40.744085</td>\n      <td>-73.973082</td>\n      <td>40.761247</td>\n      <td>5.0</td>\n      <td>3.20</td>\n      <td>4.475450</td>\n    </tr>\n    <tr>\n      <th>...</th>\n      <td>...</td>\n      <td>...</td>\n      <td>...</td>\n      <td>...</td>\n      <td>...</td>\n      <td>...</td>\n      <td>...</td>\n      <td>...</td>\n      <td>...</td>\n    </tr>\n    <tr>\n      <th>199995</th>\n      <td>42598914.0</td>\n      <td>3.0</td>\n      <td>-73.987042</td>\n      <td>40.739367</td>\n      <td>-73.986525</td>\n      <td>40.740297</td>\n      <td>1.0</td>\n      <td>3.00</td>\n      <td>0.112210</td>\n    </tr>\n    <tr>\n      <th>199996</th>\n      <td>16382965.0</td>\n      <td>7.5</td>\n      <td>-73.984722</td>\n      <td>40.736837</td>\n      <td>-74.006672</td>\n      <td>40.739620</td>\n      <td>1.0</td>\n      <td>7.50</td>\n      <td>1.875050</td>\n    </tr>\n    <tr>\n      <th>199997</th>\n      <td>27804658.0</td>\n      <td>30.9</td>\n      <td>-73.986017</td>\n      <td>40.756487</td>\n      <td>-73.858957</td>\n      <td>40.692588</td>\n      <td>2.0</td>\n      <td>15.45</td>\n      <td>12.850319</td>\n    </tr>\n    <tr>\n      <th>199998</th>\n      <td>20259894.0</td>\n      <td>14.5</td>\n      <td>-73.997124</td>\n      <td>40.725452</td>\n      <td>-73.983215</td>\n      <td>40.695415</td>\n      <td>1.0</td>\n      <td>14.50</td>\n      <td>3.539715</td>\n    </tr>\n    <tr>\n      <th>199999</th>\n      <td>11951496.0</td>\n      <td>14.1</td>\n      <td>-73.984395</td>\n      <td>40.720077</td>\n      <td>-73.985508</td>\n      <td>40.768793</td>\n      <td>1.0</td>\n      <td>14.10</td>\n      <td>5.417783</td>\n    </tr>\n  </tbody>\n</table>\n<p>200000 rows × 9 columns</p>\n</div>"
     },
     "metadata": {},
     "execution_count": 60
    }
   ],
   "source": [
    "# Was meant for transformer, but couldn't get it to work\n",
    "from math import radians, cos, sin, asin, sqrt\n",
    "def haversine(data):\n",
    "    \"\"\"\n",
    "    Calculate the great circle distance between two points \n",
    "    on the earth (specified in decimal degrees)\n",
    "    \"\"\"\n",
    "    lon1 = data['pickup_longitude']\n",
    "    lat1 = data['pickup_latitude']\n",
    "    lon2 = data['dropoff_longitude']\n",
    "    lat2 = data['dropoff_latitude']\n",
    "    \n",
    "    \n",
    "    # convert decimal degrees to radians \n",
    "    lon1, lat1, lon2, lat2 = map(radians, [lon1, lat1, lon2, lat2])\n",
    "    # haversine formula \n",
    "    dlon = lon2 - lon1 \n",
    "    dlat = lat2 - lat1 \n",
    "    a = sin(dlat/2)**2 + cos(lat1) * cos(lat2) * sin(dlon/2)**2\n",
    "    c = 2 * asin(sqrt(a)) \n",
    "    # Radius of earth in kilometers is 6371\n",
    "    km = 6371* c\n",
    "    return km\n",
    "\n",
    "#test = haversine(data.at[2, 'pickup_latitude'], data.at[2, 'pickup_longitude'], data.at[2, 'dropoff_latitude'], data.at[2, 'dropoff_longitude'])\n",
    "data_clean['distance'] = data.apply(lambda data: haversine(data), axis=1)\n",
    "\n",
    "data_clean\n"
   ]
  },
  {
   "cell_type": "markdown",
   "id": "159cd824-61e5-4615-b070-dbbaa7ced8cc",
   "metadata": {},
   "source": [
    "### sklearn.preprocessing"
   ]
  },
  {
   "cell_type": "code",
   "execution_count": 61,
   "id": "6f6ae1c5-7e0e-4b0e-b187-10b2ff27b8c3",
   "metadata": {},
   "outputs": [
    {
     "output_type": "execute_result",
     "data": {
      "text/plain": [
       "array([ 2.77125037e+07,  1.13599553e+01, -7.25276379e+01,  3.99358854e+01,\n",
       "       -7.25252916e+01,  3.99238904e+01,  1.68453500e+00])"
      ]
     },
     "metadata": {},
     "execution_count": 61
    }
   ],
   "source": [
    "scaler = StandardScaler()\n",
    "scaler.fit(data_num)\n",
    "scaler.mean_"
   ]
  },
  {
   "cell_type": "code",
   "execution_count": 62,
   "id": "b0d965f2-f8a6-4b1d-bc9e-78285cf1d1dc",
   "metadata": {},
   "outputs": [
    {
     "output_type": "execute_result",
     "data": {
      "text/plain": [
       "array([1.60137822e+07, 9.90175147e+00, 1.14377587e+01, 7.72052011e+00,\n",
       "       1.31173750e+01, 6.79481185e+00, 1.38599309e+00])"
      ]
     },
     "metadata": {},
     "execution_count": 62
    }
   ],
   "source": [
    "scaler.scale_"
   ]
  },
  {
   "cell_type": "code",
   "execution_count": 63,
   "id": "d67d9231",
   "metadata": {},
   "outputs": [
    {
     "output_type": "execute_result",
     "data": {
      "text/plain": [
       "array([[-0.21695747, -0.3898255 , -0.12871219, ..., -0.11238682,\n",
       "         0.11763778, -0.49389496],\n",
       "       [ 0.00766186, -0.36962706, -0.12823466, ..., -0.11202076,\n",
       "         0.1216273 , -0.49389496],\n",
       "       [ 1.07856165,  0.15553256, -0.12916911, ..., -0.1095702 ,\n",
       "         0.12491245, -0.49389496],\n",
       "       ...,\n",
       "       [ 0.00575469,  1.97339277, -0.12750567, ..., -0.10167167,\n",
       "         0.11313008,  0.22760936],\n",
       "       [-0.46538723,  0.31712013, -0.12847673, ..., -0.11114447,\n",
       "         0.1135462 , -0.49389496],\n",
       "       [-0.98421519,  0.27672324, -0.12736386, ..., -0.11131925,\n",
       "         0.12434525, -0.49389496]])"
      ]
     },
     "metadata": {},
     "execution_count": 63
    }
   ],
   "source": [
    "data_scaled = scaler.transform(data_num)\n",
    "data_scaled"
   ]
  },
  {
   "cell_type": "code",
   "execution_count": 66,
   "metadata": {},
   "outputs": [
    {
     "output_type": "execute_result",
     "data": {
      "text/plain": [
       "array([[ 1.00000000e+00,  3.09428995e-07, -3.05302519e-06, ...,\n",
       "        -3.05301260e-06,  1.68012588e-06,  4.12571993e-08],\n",
       "       [ 1.00000000e+00,  2.76628164e-07, -2.65830163e-06, ...,\n",
       "        -2.65831439e-06,  1.46398540e-06,  3.59257356e-08],\n",
       "       [ 1.00000000e+00,  2.86766366e-07, -1.64512847e-06, ...,\n",
       "        -1.64418418e-06,  9.06373938e-07,  2.22299508e-08],\n",
       "       ...,\n",
       "       [ 1.00000000e+00,  1.11132458e-06, -2.66092167e-06, ...,\n",
       "        -2.65635193e-06,  1.46351694e-06,  7.19303938e-08],\n",
       "       [ 1.00000000e+00,  7.15699697e-07, -3.65239442e-06, ...,\n",
       "        -3.65170792e-06,  2.00866873e-06,  4.93585998e-08],\n",
       "       [ 1.00000000e+00,  1.17976862e-06, -6.19038780e-06, ...,\n",
       "        -6.19048092e-06,  3.41118744e-06,  8.36715337e-08]])"
      ]
     },
     "metadata": {},
     "execution_count": 66
    }
   ],
   "source": [
    "data_num.dropna(inplace=True) \n",
    "sk.preprocessing.normalize(data_num, norm='l2')"
   ]
  }
 ],
 "metadata": {
  "interpreter": {
   "hash": "d58676d8f3bb1f33c18a580d9495e97176c450620e17bc501929ef40ef7c5fe0"
  },
  "kernelspec": {
   "name": "python3",
   "display_name": "Python 3.9.7 64-bit ('py39': conda)"
  },
  "language_info": {
   "codemirror_mode": {
    "name": "ipython",
    "version": 3
   },
   "file_extension": ".py",
   "mimetype": "text/x-python",
   "name": "python",
   "nbconvert_exporter": "python",
   "pygments_lexer": "ipython3",
   "version": "3.9.7"
  }
 },
 "nbformat": 4,
 "nbformat_minor": 5
}