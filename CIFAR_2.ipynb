{
 "cells": [
  {
   "cell_type": "markdown",
   "id": "f7a0f35f-d540-4121-b9de-4f334c3b7495",
   "metadata": {},
   "source": [
    "# Imports And Setup"
   ]
  },
  {
   "cell_type": "code",
   "execution_count": 10,
   "id": "38fec45a-a8a1-468b-944f-e3a5a9b355ca",
   "metadata": {},
   "outputs": [],
   "source": [
    "import pickle\n",
    "import pandas as pd\n",
    "import numpy as np\n",
    "import sklearn as sk\n",
    "from sklearn.linear_model import SGDClassifier\n",
    "from sklearn.metrics import classification_report\n",
    "import matplotlib.pyplot as plt\n",
    "from sklearn.tree import DecisionTreeRegressor\n",
    "from sklearn.neighbors import KNeighborsClassifier\n",
    "from sklearn.ensemble import RandomForestClassifier\n",
    "from sklearn.svm import SVC\n",
    "from sklearn.multiclass import OneVsRestClassifier\n",
    "import joblib\n",
    "from sklearn.model_selection import cross_val_score\n",
    "from sklearn.model_selection import StratifiedKFold"
   ]
  },
  {
   "cell_type": "code",
   "execution_count": 11,
   "id": "4c255ce8-1a90-4833-8268-ef65c4de59fa",
   "metadata": {},
   "outputs": [],
   "source": [
    "# Data file names\n",
    "batch1_name = \"CIFAR_data/data_batch_1\"\n",
    "batch2_name = \"CIFAR_data/data_batch_2\"\n",
    "batch3_name = \"CIFAR_data/data_batch_3\"\n",
    "batch4_name = \"CIFAR_data/data_batch_4\"\n",
    "batch5_name = \"CIFAR_data/data_batch_5\"\n",
    "batchT_name = \"CIFAR_data/test_batch\"\n",
    "meta_name = \"CIFAR_data/batches.meta\""
   ]
  },
  {
   "cell_type": "markdown",
   "id": "95e43a85-6a5a-413e-b706-6a143a1b1a52",
   "metadata": {},
   "source": [
    "# Data Loading And Cleaning"
   ]
  },
  {
   "cell_type": "code",
   "execution_count": 12,
   "id": "f75f08e5-a1a6-455c-bf73-fc3d6159d805",
   "metadata": {},
   "outputs": [],
   "source": [
    "# Used to load in the data files\n",
    "def unpickle(file):\n",
    "    import pickle\n",
    "    with open(file, 'rb') as fo:\n",
    "        dict = pickle.load(fo, encoding='bytes')\n",
    "    return dict"
   ]
  },
  {
   "cell_type": "code",
   "execution_count": 13,
   "id": "e9ca12a2-1150-48af-bb33-c505a1e38c2e",
   "metadata": {},
   "outputs": [],
   "source": [
    "# Load in each data file\n",
    "batch1 = unpickle(batch1_name)\n",
    "batch2 = unpickle(batch2_name)\n",
    "batch3 = unpickle(batch3_name)\n",
    "batch4 = unpickle(batch4_name)\n",
    "batch5 = unpickle(batch5_name)\n",
    "batchT = unpickle(batchT_name)"
   ]
  },
  {
   "cell_type": "code",
   "execution_count": 14,
   "id": "b96cf047-18de-419e-ba23-036488bc400c",
   "metadata": {},
   "outputs": [
    {
     "output_type": "stream",
     "name": "stdout",
     "text": [
      "dict_keys([b'batch_label', b'labels', b'data', b'filenames'])\nb'training batch 1 of 5'\n[6, 9, 9, 4, 1, 1, 2, 7, 8, 3]\n<class 'list'>\n[ 59  43  50 ... 140  84  72]\n<class 'numpy.ndarray'>\n[b'leptodactylus_pentadactylus_s_000004.png', b'camion_s_000148.png', b'tipper_truck_s_001250.png', b'american_elk_s_001521.png', b'station_wagon_s_000293.png', b'coupe_s_001735.png', b'cassowary_s_001300.png', b'cow_pony_s_001168.png', b'sea_boat_s_001584.png', b'tabby_s_001355.png']\n"
     ]
    }
   ],
   "source": [
    "# What does the data look like?\n",
    "print(batch1.keys())             # Keys\n",
    "print(batch1[b'batch_label'])    # Batch label\n",
    "print(batch1[b'labels'][:10])    # Labels\n",
    "print(type(batch1[b'labels']))   # Label type\n",
    "print(batch1[b'data'][0])        # Data\n",
    "print(type(batch1[b'data']))   # Data type\n",
    "print(batch1[b'filenames'][:10]) # Filenames"
   ]
  },
  {
   "cell_type": "code",
   "execution_count": 15,
   "id": "a00c033c-b7c0-48c8-863d-0bb1769fd30a",
   "metadata": {},
   "outputs": [],
   "source": [
    "# Store the labels and data as a numpy array\n",
    "batch1['labels'] = np.array(batch1[b'labels'], dtype=np.int8)\n",
    "batch1['data'] = batch1[b'data']\n",
    "batch2['labels'] = np.array(batch2[b'labels'], dtype=np.int8)\n",
    "batch2['data'] = batch2[b'data']\n",
    "batch3['labels'] = np.array(batch3[b'labels'], dtype=np.int8)\n",
    "batch3['data'] = batch3[b'data']\n",
    "batch4['labels'] = np.array(batch4[b'labels'], dtype=np.int8)\n",
    "batch4['data'] = batch4[b'data']\n",
    "batch5['labels'] = np.array(batch5[b'labels'], dtype=np.int8)\n",
    "batch5['data'] = batch5[b'data']\n",
    "batchT['labels'] = np.array(batchT[b'labels'], dtype=np.int8)\n",
    "batchT['data'] = batchT[b'data']"
   ]
  },
  {
   "cell_type": "code",
   "execution_count": 16,
   "id": "910aab03-1867-4180-a8f2-721039abbd41",
   "metadata": {},
   "outputs": [
    {
     "output_type": "stream",
     "name": "stdout",
     "text": [
      "[6 9 9 4 1 1 2 7 8 3]\n[ 59  43  50 ... 140  84  72]\n"
     ]
    }
   ],
   "source": [
    "# Check if the conversion was successful\n",
    "print(batch1['labels'][:10])\n",
    "print(batch1['data'][0])"
   ]
  },
  {
   "cell_type": "code",
   "execution_count": 17,
   "id": "b0ba76c6-245f-4880-8142-cca7a3328daf",
   "metadata": {},
   "outputs": [],
   "source": [
    "# Load in the metadata\n",
    "meta = unpickle(meta_name)"
   ]
  },
  {
   "cell_type": "code",
   "execution_count": 18,
   "id": "d7ffef24-bc87-4fae-8da8-7d7b9467b9ce",
   "metadata": {},
   "outputs": [
    {
     "output_type": "execute_result",
     "data": {
      "text/plain": [
       "[b'airplane',\n",
       " b'automobile',\n",
       " b'bird',\n",
       " b'cat',\n",
       " b'deer',\n",
       " b'dog',\n",
       " b'frog',\n",
       " b'horse',\n",
       " b'ship',\n",
       " b'truck']"
      ]
     },
     "metadata": {},
     "execution_count": 18
    }
   ],
   "source": [
    "# Visualize the metadata\n",
    "meta[b'label_names']"
   ]
  },
  {
   "cell_type": "code",
   "execution_count": 19,
   "id": "86a7f253-38b9-4c89-8933-aa94bdabca0d",
   "metadata": {},
   "outputs": [],
   "source": [
    "# Convert the metadata to dictionaries\n",
    "meta_numToLab = {i:str(meta[b'label_names'][i])[2:-1] for i in range(0, len(meta[b'label_names']))}\n",
    "meta_labToNum = {str(meta[b'label_names'][i])[2:-1]:i for i in range(0, len(meta[b'label_names']))}"
   ]
  },
  {
   "cell_type": "code",
   "execution_count": 20,
   "id": "0d7b9312-4335-4f78-b4f8-612a2a6412eb",
   "metadata": {},
   "outputs": [
    {
     "output_type": "execute_result",
     "data": {
      "text/plain": [
       "{0: 'airplane',\n",
       " 1: 'automobile',\n",
       " 2: 'bird',\n",
       " 3: 'cat',\n",
       " 4: 'deer',\n",
       " 5: 'dog',\n",
       " 6: 'frog',\n",
       " 7: 'horse',\n",
       " 8: 'ship',\n",
       " 9: 'truck'}"
      ]
     },
     "metadata": {},
     "execution_count": 20
    }
   ],
   "source": [
    "meta_numToLab"
   ]
  },
  {
   "cell_type": "code",
   "execution_count": 21,
   "id": "1990845e-1936-40e5-8c88-09ca2ecdf65a",
   "metadata": {},
   "outputs": [
    {
     "output_type": "execute_result",
     "data": {
      "text/plain": [
       "{'airplane': 0,\n",
       " 'automobile': 1,\n",
       " 'bird': 2,\n",
       " 'cat': 3,\n",
       " 'deer': 4,\n",
       " 'dog': 5,\n",
       " 'frog': 6,\n",
       " 'horse': 7,\n",
       " 'ship': 8,\n",
       " 'truck': 9}"
      ]
     },
     "metadata": {},
     "execution_count": 21
    }
   ],
   "source": [
    "meta_labToNum"
   ]
  },
  {
   "cell_type": "code",
   "execution_count": 22,
   "id": "f0226ca7-520f-439b-9278-8442ce35c0dc",
   "metadata": {},
   "outputs": [],
   "source": [
    "# Combine the data into a single array of labels and an array of data\n",
    "# and store the data in a dnew dictionary\n",
    "batchC = {\"train\":dict(), \"test\":dict(), \"all\":dict()}\n",
    "batchC[\"train\"][\"y\"] = np.concatenate((batch1[\"labels\"], batch2[\"labels\"], batch3[\"labels\"], batch4[\"labels\"], batch5[\"labels\"]), dtype=np.int8)\n",
    "batchC[\"train\"][\"X\"] = np.concatenate((batch1[\"data\"], batch2[\"data\"], batch3[\"data\"], batch4[\"data\"], batch5[\"data\"]), dtype=np.uint8)\n",
    "batchC[\"test\"][\"y\"] = np.array(batchT[\"labels\"], dtype=np.int8)\n",
    "batchC[\"test\"][\"X\"] = np.array(batchT[\"data\"], dtype=np.uint8)\n",
    "batchC[\"all\"][\"X\"] = np.concatenate((batchC[\"train\"][\"X\"], batchC[\"test\"][\"X\"]))\n",
    "batchC[\"all\"][\"y\"] = np.concatenate((batchC[\"train\"][\"y\"], batchC[\"test\"][\"y\"]))"
   ]
  },
  {
   "cell_type": "code",
   "execution_count": 23,
   "id": "03a3cedd-cf58-4465-a42e-aadafd828e55",
   "metadata": {},
   "outputs": [],
   "source": [
    "# Ensure the conversion was successful\n",
    "assert np.array_equal(batchC[\"train\"][\"y\"][:10], batch1[\"labels\"][:10])\n",
    "assert np.array_equal(batchC[\"train\"][\"y\"][-10:], batch5[\"labels\"][-10:])\n",
    "assert np.array_equal(batchC[\"train\"][\"X\"][:10], batch1[\"data\"][:10])\n",
    "assert np.array_equal(batchC[\"train\"][\"X\"][-10:], batch5[\"data\"][-10:])\n",
    "\n",
    "assert np.array_equal(batchC[\"test\"][\"y\"][:10], batchT[\"labels\"][:10])\n",
    "assert np.array_equal(batchC[\"test\"][\"y\"][-10:], batchT[\"labels\"][-10:])\n",
    "assert np.array_equal(batchC[\"test\"][\"X\"][:10], batchT[\"data\"][:10])\n",
    "assert np.array_equal(batchC[\"test\"][\"X\"][-10:], batchT[\"data\"][-10:])\n",
    "\n",
    "assert batchC[\"train\"][\"X\"].shape[0] + batchC[\"test\"][\"X\"].shape[0] == batchC[\"all\"][\"X\"].shape[0]\n",
    "assert batchC[\"train\"][\"y\"].shape[0] + batchC[\"test\"][\"y\"].shape[0] == batchC[\"all\"][\"y\"].shape[0]"
   ]
  },
  {
   "cell_type": "code",
   "execution_count": 24,
   "id": "7d200d3d-8a93-4f81-8726-e13b158ebfdf",
   "metadata": {},
   "outputs": [
    {
     "output_type": "stream",
     "name": "stdout",
     "text": [
      "Train Labels: (50000,)\nTrain Data:   (50000, 3072)\nTest Labels:  (10000,)\nTest Data:    (10000, 3072)\nAll Labels:   (60000,)\nAll Data:     (60000, 3072)\n"
     ]
    }
   ],
   "source": [
    "# The data shapes\n",
    "print(f'Train Labels: {batchC[\"train\"][\"y\"].shape}')\n",
    "print(f'Train Data:   {batchC[\"train\"][\"X\"].shape}')\n",
    "print(f'Test Labels:  {batchC[\"test\"][\"y\"].shape}')\n",
    "print(f'Test Data:    {batchC[\"test\"][\"X\"].shape}')\n",
    "print(f'All Labels:   {batchC[\"all\"][\"y\"].shape}')\n",
    "print(f'All Data:     {batchC[\"all\"][\"X\"].shape}')"
   ]
  },
  {
   "cell_type": "markdown",
   "id": "12709c3c-dc6e-40ef-83cb-ee8cfff18d06",
   "metadata": {},
   "source": [
    "# Linear Regression"
   ]
  },
  {
   "cell_type": "code",
   "execution_count": 21,
   "id": "ddf94760-4c2a-4f19-b88c-36a398cf634a",
   "metadata": {},
   "outputs": [],
   "source": [
    "# Create the model\n",
    "LR = sk.linear_model.LinearRegression()"
   ]
  },
  {
   "cell_type": "code",
   "execution_count": 22,
   "id": "fe81b8ad-17a1-4355-8436-072b50ca8e4b",
   "metadata": {},
   "outputs": [
    {
     "output_type": "execute_result",
     "data": {
      "text/plain": [
       "LinearRegression()"
      ]
     },
     "metadata": {},
     "execution_count": 22
    }
   ],
   "source": [
    "# Load a pretrained model\n",
    "#LR = joblib.load(\"models/LR.pkl\")\n",
    "\n",
    "# Or fit the model\n",
    "LR.fit(batchC[\"train\"][\"X\"], batchC[\"train\"][\"y\"])"
   ]
  },
  {
   "cell_type": "code",
   "execution_count": 23,
   "id": "c2ba2e81-eff5-4676-b58e-b984512a6725",
   "metadata": {},
   "outputs": [
    {
     "output_type": "stream",
     "name": "stdout",
     "text": [
      "Train: 0.1502478112317177\nTest: 0.026348067178683765\n"
     ]
    }
   ],
   "source": [
    "# Check the train and test accuracy\n",
    "print(f'Train: {LR.score(batchC[\"train\"][\"X\"], batchC[\"train\"][\"y\"])}')\n",
    "print(f'Test: {LR.score(batchC[\"test\"][\"X\"], batchC[\"test\"][\"y\"])}')"
   ]
  },
  {
   "cell_type": "code",
   "execution_count": 24,
   "id": "ff78df37-698a-4b9f-87f7-c250c01f0af4",
   "metadata": {},
   "outputs": [
    {
     "output_type": "execute_result",
     "data": {
      "text/plain": [
       "['models/LR.pkl']"
      ]
     },
     "metadata": {},
     "execution_count": 24
    }
   ],
   "source": [
    "# Save the model\n",
    "joblib.dump(LR, \"models/LR.pkl\") "
   ]
  },
  {
   "cell_type": "markdown",
   "id": "8ce43da5-6a97-4a0f-84d4-3f622bf3c8bb",
   "metadata": {},
   "source": [
    "### Notes\n",
    "- This classifier seemed to give terrible predictions.\n",
    "- The training is pretty quick due to the number of parameters being low.\n",
    "- The model is very quick to make predictions on all the data.\n",
    "- Since the model has very few parameters, it will underfit any data that isn't linear, but it will make a quick prediction and it will train quickly.\n",
    "\n",
    "#### Pros:\n",
    "- The model takes little time to train\n",
    "- The model makes a quick prediction\n",
    "\n",
    "#### Cons:\n",
    "- The model has very low accuracy when making predictions\n",
    "- The model looks to overfit on the training data since the test accuracy is really far from the train accuracy"
   ]
  },
  {
   "cell_type": "markdown",
   "id": "46107516-f880-484f-8dad-a2a8f64286bb",
   "metadata": {},
   "source": [
    "# Random Forest Classifier"
   ]
  },
  {
   "cell_type": "code",
   "execution_count": 36,
   "id": "f299c52c-8701-4aa1-94e9-840033bcfa0b",
   "metadata": {},
   "outputs": [],
   "source": [
    "# Create the models\n",
    "RFC1 = RandomForestClassifier(n_estimators=100)\n",
    "RFC2 = RandomForestClassifier(n_estimators=200)\n",
    "RFC3 = RandomForestClassifier(n_estimators=10)\n",
    "RFC4 = RandomForestClassifier(n_estimators=2)"
   ]
  },
  {
   "cell_type": "code",
   "execution_count": 50,
   "id": "4d012789-6379-4701-8860-911b95cced7f",
   "metadata": {},
   "outputs": [
    {
     "output_type": "execute_result",
     "data": {
      "text/plain": [
       "RandomForestClassifier()"
      ]
     },
     "metadata": {},
     "execution_count": 50
    }
   ],
   "source": [
    "# Load pretrained models\n",
    "#RFC1 = joblib.load(\"models/RFC1.pkl\")\n",
    "#RFC2 = joblib.load(\"models/RFC2.pkl\")\n",
    "#RFC3 = joblib.load(\"models/RFC3.pkl\")\n",
    "#RFC4 = joblib.load(\"models/RFC4.pkl\")\n",
    "\n",
    "# Fit the models\n",
    "RFC1.fit(batchC[\"train\"][\"X\"], batchC[\"train\"][\"y\"])\n",
    "RFC2.fit(batchC[\"train\"][\"X\"], batchC[\"train\"][\"y\"])\n",
    "RFC3.fit(batchC[\"train\"][\"X\"], batchC[\"train\"][\"y\"])\n",
    "RFC4.fit(batchC[\"train\"][\"X\"], batchC[\"train\"][\"y\"])"
   ]
  },
  {
   "cell_type": "code",
   "execution_count": 74,
   "id": "1a4f00bc-e57b-4147-a8eb-870fa4220146",
   "metadata": {},
   "outputs": [
    {
     "name": "stdout",
     "output_type": "stream",
     "text": [
      "Model 1 Train: 1.0\n",
      "Model 1 Test: 0.4632\n",
      "Model 2 Train: 1.0\n",
      "Model 2 Test: 0.4819\n",
      "Model 3 Train: 0.9932\n",
      "Model 3 Test: 0.3679\n",
      "Model 4 Train: 0.71766\n",
      "Model 4 Test: 0.2286\n"
     ]
    }
   ],
   "source": [
    "# Check the train and test accuracy\n",
    "print(f'Model 1 Train: {RFC1.score(batchC[\"train\"][\"X\"], batchC[\"train\"][\"y\"])}')\n",
    "print(f'Model 1 Test: {RFC1.score(batchC[\"test\"][\"X\"], batchC[\"test\"][\"y\"])}')\n",
    "print(f'Model 2 Train: {RFC2.score(batchC[\"train\"][\"X\"], batchC[\"train\"][\"y\"])}')\n",
    "print(f'Model 2 Test: {RFC2.score(batchC[\"test\"][\"X\"], batchC[\"test\"][\"y\"])}')\n",
    "print(f'Model 3 Train: {RFC3.score(batchC[\"train\"][\"X\"], batchC[\"train\"][\"y\"])}')\n",
    "print(f'Model 3 Test: {RFC3.score(batchC[\"test\"][\"X\"], batchC[\"test\"][\"y\"])}')\n",
    "print(f'Model 4 Train: {RFC4.score(batchC[\"train\"][\"X\"], batchC[\"train\"][\"y\"])}')\n",
    "print(f'Model 4 Test: {RFC4.score(batchC[\"test\"][\"X\"], batchC[\"test\"][\"y\"])}')"
   ]
  },
  {
   "cell_type": "code",
   "execution_count": 66,
   "id": "97a039e4-e161-4ee2-83c6-cd88368200c7",
   "metadata": {},
   "outputs": [
    {
     "data": {
      "text/plain": [
       "['models/RFC4.pkl']"
      ]
     },
     "execution_count": 66,
     "metadata": {},
     "output_type": "execute_result"
    }
   ],
   "source": [
    "# Save the models\n",
    "joblib.dump(RFC1, \"models/RFC1.pkl\") \n",
    "joblib.dump(RFC2, \"models/RFC2.pkl\") \n",
    "joblib.dump(RFC3, \"models/RFC3.pkl\") \n",
    "joblib.dump(RFC4, \"models/RFC4.pkl\") "
   ]
  },
  {
   "cell_type": "markdown",
   "id": "59dc1008-dd98-47f4-ac63-0d23c2227966",
   "metadata": {},
   "source": [
    "### Notes\n",
    "- This classifier seemed to severely overfit on the train set.\n",
    "- To try to make the model not overfit as much, the number of estimators is reduced, but this also severely impacts the test accuracy.\n",
    "- The training isn't instant, but it also doesn't take too long like Gradient Descent.\n",
    "- To make all predictions on the data, it takes about a few seconds on my laptop, so the prediction time is pretty quick.\n",
    "\n",
    "\n",
    "#### Pros:\n",
    "- The train and test accuracy are relatively high compared to the previous methods\n",
    "- The training time is reasonable\n",
    "- The time to make a prediction is not instant, but still reasonable\n",
    "\n",
    "#### Cons:\n",
    "- The model severealy overfits to the training data"
   ]
  },
  {
   "cell_type": "markdown",
   "id": "2ad4916e-41b8-4138-a897-2b8a0199a13e",
   "metadata": {},
   "source": [
    "# OvR Classifier"
   ]
  },
  {
   "cell_type": "code",
   "execution_count": 21,
   "id": "adee6f3f-9f80-421e-9818-1b067ac8a05d",
   "metadata": {},
   "outputs": [],
   "source": [
    "# Create and fit the model\n",
    "OvR = OneVsRestClassifier(SVC().fit(batchC[\"train\"][\"X\"], batchC[\"train\"][\"y\"]))"
   ]
  },
  {
   "cell_type": "code",
   "execution_count": 22,
   "id": "83438280-e4bf-4dba-8f85-5d8554fc49f9",
   "metadata": {},
   "outputs": [
    {
     "data": {
      "text/plain": [
       "OneVsRestClassifier(estimator=SVC())"
      ]
     },
     "execution_count": 22,
     "metadata": {},
     "output_type": "execute_result"
    }
   ],
   "source": [
    "# Load pretrained model\n",
    "#OvR = joblib.load(\"models/OvR.pkl\")\n",
    "\n",
    "# Or fit the model\n",
    "OvR.fit(batchC[\"train\"][\"X\"], batchC[\"train\"][\"y\"])"
   ]
  },
  {
   "cell_type": "code",
   "execution_count": 23,
   "id": "1ca255c7-5108-466a-b03d-fbf994215b90",
   "metadata": {},
   "outputs": [
    {
     "name": "stdout",
     "output_type": "stream",
     "text": [
      "Model Train: 0.84128\n",
      "Model Test: 0.5562\n"
     ]
    }
   ],
   "source": [
    "# Check the train and test accuracy\n",
    "print(f'Model Train: {OvR.score(batchC[\"train\"][\"X\"], batchC[\"train\"][\"y\"])}')\n",
    "print(f'Model Test: {OvR.score(batchC[\"test\"][\"X\"], batchC[\"test\"][\"y\"])}')"
   ]
  },
  {
   "cell_type": "code",
   "execution_count": 24,
   "id": "895a6518-4750-4957-81a7-25c390160a6d",
   "metadata": {},
   "outputs": [
    {
     "data": {
      "text/plain": [
       "['models/OvR.pkl']"
      ]
     },
     "execution_count": 24,
     "metadata": {},
     "output_type": "execute_result"
    }
   ],
   "source": [
    "# Save the model\n",
    "joblib.dump(OvR, \"models/OvR.pkl\")"
   ]
  },
  {
   "cell_type": "markdown",
   "id": "94a6bce0-711c-4492-b690-2c4f82263250",
   "metadata": {},
   "source": [
    "### Notes\n",
    "- This classifier performed pretty well on the train set, but not very well on the test set\n",
    "- The model is clearly overfitting\n",
    "- Compared to the other models, this one did pretty good on both sets\n",
    "- The model takes hours to train while Gradient Descent took under an hour to train with 1000 steps and the other models took a few minuites to train.\n",
    "- The model takes hours to make predictions for the test set while K Nearest Neighbors takes a under 30 minuites to make all predictions for the test set and all other models take at most a few minuites to predict the test set.\n",
    "\n",
    "#### Pros:\n",
    "- The model has a high train accuracy compared to the other models\n",
    "- The model has an ok test accuracy compared to other models\n",
    "\n",
    "#### Cons:\n",
    "- The model takes forever to train\n",
    "- The model takes forever to make a prediction\n",
    "- The model is clearly overfitting to the train set"
   ]
  },
  {
   "source": [
    "### Mean Squared Error"
   ],
   "cell_type": "markdown",
   "metadata": {}
  },
  {
   "cell_type": "code",
   "execution_count": 29,
   "metadata": {},
   "outputs": [
    {
     "output_type": "execute_result",
     "data": {
      "text/plain": [
       "2.647726488393076"
      ]
     },
     "metadata": {},
     "execution_count": 29
    }
   ],
   "source": [
    "from sklearn.metrics import mean_squared_error\n",
    "predictions = LR.predict(batchC[\"train\"][\"X\"])\n",
    "lin_mse = mean_squared_error(batchC[\"train\"][\"y\"], predictions)\n",
    "lin_rmse = np.sqrt(lin_mse)\n",
    "lin_rmse"
   ]
  },
  {
   "source": [
    "### Confusion Matrix"
   ],
   "cell_type": "markdown",
   "metadata": {}
  },
  {
   "cell_type": "code",
   "execution_count": 37,
   "metadata": {},
   "outputs": [],
   "source": [
    "from sklearn.model_selection import cross_val_predict\n",
    "\n",
    "y_train_pred = cross_val_predict(RFC1, batchC[\"train\"][\"X\"], batchC[\"train\"][\"y\"], cv=3)"
   ]
  },
  {
   "cell_type": "code",
   "execution_count": 38,
   "metadata": {},
   "outputs": [
    {
     "output_type": "execute_result",
     "data": {
      "text/plain": [
       "array([[2625,  261,  265,  137,  148,  130,  126,  175,  818,  315],\n",
       "       [ 163, 2619,   76,  191,  130,  159,  190,  181,  321,  970],\n",
       "       [ 511,  209, 1499,  341,  794,  348,  670,  298,  170,  160],\n",
       "       [ 248,  239,  385, 1368,  396,  920,  715,  292,  125,  312],\n",
       "       [ 298,  128,  716,  257, 1931,  262,  702,  409,  130,  167],\n",
       "       [ 172,  205,  448,  804,  419, 1833,  457,  352,  109,  201],\n",
       "       [  97,  182,  406,  396,  620,  319, 2649,  147,   42,  142],\n",
       "       [ 217,  201,  273,  315,  570,  379,  280, 2209,  116,  440],\n",
       "       [ 499,  429,   90,  149,  105,  181,   68,   85, 2974,  420],\n",
       "       [ 204,  849,   75,  149,   87,  135,  165,  190,  377, 2769]])"
      ]
     },
     "metadata": {},
     "execution_count": 38
    }
   ],
   "source": [
    "from sklearn.metrics import confusion_matrix\n",
    "confusion_matrix(batchC[\"train\"][\"y\"], y_train_pred)"
   ]
  },
  {
   "source": [
    "### ROC Curve"
   ],
   "cell_type": "markdown",
   "metadata": {}
  },
  {
   "cell_type": "code",
   "execution_count": 89,
   "metadata": {},
   "outputs": [],
   "source": [
    "from sklearn.metrics import roc_curve\n",
    "fpr, tpr, thresholds = roc_curve(batchC[\"train\"][\"y\"], y_train_pred, pos_label=1)"
   ]
  },
  {
   "cell_type": "code",
   "execution_count": 94,
   "metadata": {},
   "outputs": [
    {
     "output_type": "display_data",
     "data": {
      "text/plain": "<Figure size 432x288 with 1 Axes>",
      "image/svg+xml": "<?xml version=\"1.0\" encoding=\"utf-8\" standalone=\"no\"?>\n<!DOCTYPE svg PUBLIC \"-//W3C//DTD SVG 1.1//EN\"\n  \"http://www.w3.org/Graphics/SVG/1.1/DTD/svg11.dtd\">\n<svg xmlns:xlink=\"http://www.w3.org/1999/xlink\" width=\"372.103125pt\" height=\"248.518125pt\" viewBox=\"0 0 372.103125 248.518125\" xmlns=\"http://www.w3.org/2000/svg\" version=\"1.1\">\n <metadata>\n  <rdf:RDF xmlns:dc=\"http://purl.org/dc/elements/1.1/\" xmlns:cc=\"http://creativecommons.org/ns#\" xmlns:rdf=\"http://www.w3.org/1999/02/22-rdf-syntax-ns#\">\n   <cc:Work>\n    <dc:type rdf:resource=\"http://purl.org/dc/dcmitype/StillImage\"/>\n    <dc:date>2022-04-08T04:32:46.611016</dc:date>\n    <dc:format>image/svg+xml</dc:format>\n    <dc:creator>\n     <cc:Agent>\n      <dc:title>Matplotlib v3.5.0, https://matplotlib.org/</dc:title>\n     </cc:Agent>\n    </dc:creator>\n   </cc:Work>\n  </rdf:RDF>\n </metadata>\n <defs>\n  <style type=\"text/css\">*{stroke-linejoin: round; stroke-linecap: butt}</style>\n </defs>\n <g id=\"figure_1\">\n  <g id=\"patch_1\">\n   <path d=\"M 0 248.518125 \nL 372.103125 248.518125 \nL 372.103125 0 \nL 0 0 \nL 0 248.518125 \nz\n\" style=\"fill: none\"/>\n  </g>\n  <g id=\"axes_1\">\n   <g id=\"patch_2\">\n    <path d=\"M 30.103125 224.64 \nL 364.903125 224.64 \nL 364.903125 7.2 \nL 30.103125 7.2 \nz\n\" style=\"fill: #ffffff\"/>\n   </g>\n   <g id=\"matplotlib.axis_1\">\n    <g id=\"xtick_1\">\n     <g id=\"line2d_1\">\n      <defs>\n       <path id=\"mcb9d915ff2\" d=\"M 0 0 \nL 0 3.5 \n\" style=\"stroke: #000000; stroke-width: 0.8\"/>\n      </defs>\n      <g>\n       <use xlink:href=\"#mcb9d915ff2\" x=\"45.321307\" y=\"224.64\" style=\"stroke: #000000; stroke-width: 0.8\"/>\n      </g>\n     </g>\n     <g id=\"text_1\">\n      <!-- 0.0 -->\n      <g transform=\"translate(37.369744 239.238437)scale(0.1 -0.1)\">\n       <defs>\n        <path id=\"DejaVuSans-30\" d=\"M 2034 4250 \nQ 1547 4250 1301 3770 \nQ 1056 3291 1056 2328 \nQ 1056 1369 1301 889 \nQ 1547 409 2034 409 \nQ 2525 409 2770 889 \nQ 3016 1369 3016 2328 \nQ 3016 3291 2770 3770 \nQ 2525 4250 2034 4250 \nz\nM 2034 4750 \nQ 2819 4750 3233 4129 \nQ 3647 3509 3647 2328 \nQ 3647 1150 3233 529 \nQ 2819 -91 2034 -91 \nQ 1250 -91 836 529 \nQ 422 1150 422 2328 \nQ 422 3509 836 4129 \nQ 1250 4750 2034 4750 \nz\n\" transform=\"scale(0.015625)\"/>\n        <path id=\"DejaVuSans-2e\" d=\"M 684 794 \nL 1344 794 \nL 1344 0 \nL 684 0 \nL 684 794 \nz\n\" transform=\"scale(0.015625)\"/>\n       </defs>\n       <use xlink:href=\"#DejaVuSans-30\"/>\n       <use xlink:href=\"#DejaVuSans-2e\" x=\"63.623047\"/>\n       <use xlink:href=\"#DejaVuSans-30\" x=\"95.410156\"/>\n      </g>\n     </g>\n    </g>\n    <g id=\"xtick_2\">\n     <g id=\"line2d_2\">\n      <g>\n       <use xlink:href=\"#mcb9d915ff2\" x=\"106.194034\" y=\"224.64\" style=\"stroke: #000000; stroke-width: 0.8\"/>\n      </g>\n     </g>\n     <g id=\"text_2\">\n      <!-- 0.2 -->\n      <g transform=\"translate(98.242472 239.238437)scale(0.1 -0.1)\">\n       <defs>\n        <path id=\"DejaVuSans-32\" d=\"M 1228 531 \nL 3431 531 \nL 3431 0 \nL 469 0 \nL 469 531 \nQ 828 903 1448 1529 \nQ 2069 2156 2228 2338 \nQ 2531 2678 2651 2914 \nQ 2772 3150 2772 3378 \nQ 2772 3750 2511 3984 \nQ 2250 4219 1831 4219 \nQ 1534 4219 1204 4116 \nQ 875 4013 500 3803 \nL 500 4441 \nQ 881 4594 1212 4672 \nQ 1544 4750 1819 4750 \nQ 2544 4750 2975 4387 \nQ 3406 4025 3406 3419 \nQ 3406 3131 3298 2873 \nQ 3191 2616 2906 2266 \nQ 2828 2175 2409 1742 \nQ 1991 1309 1228 531 \nz\n\" transform=\"scale(0.015625)\"/>\n       </defs>\n       <use xlink:href=\"#DejaVuSans-30\"/>\n       <use xlink:href=\"#DejaVuSans-2e\" x=\"63.623047\"/>\n       <use xlink:href=\"#DejaVuSans-32\" x=\"95.410156\"/>\n      </g>\n     </g>\n    </g>\n    <g id=\"xtick_3\">\n     <g id=\"line2d_3\">\n      <g>\n       <use xlink:href=\"#mcb9d915ff2\" x=\"167.066761\" y=\"224.64\" style=\"stroke: #000000; stroke-width: 0.8\"/>\n      </g>\n     </g>\n     <g id=\"text_3\">\n      <!-- 0.4 -->\n      <g transform=\"translate(159.115199 239.238437)scale(0.1 -0.1)\">\n       <defs>\n        <path id=\"DejaVuSans-34\" d=\"M 2419 4116 \nL 825 1625 \nL 2419 1625 \nL 2419 4116 \nz\nM 2253 4666 \nL 3047 4666 \nL 3047 1625 \nL 3713 1625 \nL 3713 1100 \nL 3047 1100 \nL 3047 0 \nL 2419 0 \nL 2419 1100 \nL 313 1100 \nL 313 1709 \nL 2253 4666 \nz\n\" transform=\"scale(0.015625)\"/>\n       </defs>\n       <use xlink:href=\"#DejaVuSans-30\"/>\n       <use xlink:href=\"#DejaVuSans-2e\" x=\"63.623047\"/>\n       <use xlink:href=\"#DejaVuSans-34\" x=\"95.410156\"/>\n      </g>\n     </g>\n    </g>\n    <g id=\"xtick_4\">\n     <g id=\"line2d_4\">\n      <g>\n       <use xlink:href=\"#mcb9d915ff2\" x=\"227.939489\" y=\"224.64\" style=\"stroke: #000000; stroke-width: 0.8\"/>\n      </g>\n     </g>\n     <g id=\"text_4\">\n      <!-- 0.6 -->\n      <g transform=\"translate(219.987926 239.238437)scale(0.1 -0.1)\">\n       <defs>\n        <path id=\"DejaVuSans-36\" d=\"M 2113 2584 \nQ 1688 2584 1439 2293 \nQ 1191 2003 1191 1497 \nQ 1191 994 1439 701 \nQ 1688 409 2113 409 \nQ 2538 409 2786 701 \nQ 3034 994 3034 1497 \nQ 3034 2003 2786 2293 \nQ 2538 2584 2113 2584 \nz\nM 3366 4563 \nL 3366 3988 \nQ 3128 4100 2886 4159 \nQ 2644 4219 2406 4219 \nQ 1781 4219 1451 3797 \nQ 1122 3375 1075 2522 \nQ 1259 2794 1537 2939 \nQ 1816 3084 2150 3084 \nQ 2853 3084 3261 2657 \nQ 3669 2231 3669 1497 \nQ 3669 778 3244 343 \nQ 2819 -91 2113 -91 \nQ 1303 -91 875 529 \nQ 447 1150 447 2328 \nQ 447 3434 972 4092 \nQ 1497 4750 2381 4750 \nQ 2619 4750 2861 4703 \nQ 3103 4656 3366 4563 \nz\n\" transform=\"scale(0.015625)\"/>\n       </defs>\n       <use xlink:href=\"#DejaVuSans-30\"/>\n       <use xlink:href=\"#DejaVuSans-2e\" x=\"63.623047\"/>\n       <use xlink:href=\"#DejaVuSans-36\" x=\"95.410156\"/>\n      </g>\n     </g>\n    </g>\n    <g id=\"xtick_5\">\n     <g id=\"line2d_5\">\n      <g>\n       <use xlink:href=\"#mcb9d915ff2\" x=\"288.812216\" y=\"224.64\" style=\"stroke: #000000; stroke-width: 0.8\"/>\n      </g>\n     </g>\n     <g id=\"text_5\">\n      <!-- 0.8 -->\n      <g transform=\"translate(280.860653 239.238437)scale(0.1 -0.1)\">\n       <defs>\n        <path id=\"DejaVuSans-38\" d=\"M 2034 2216 \nQ 1584 2216 1326 1975 \nQ 1069 1734 1069 1313 \nQ 1069 891 1326 650 \nQ 1584 409 2034 409 \nQ 2484 409 2743 651 \nQ 3003 894 3003 1313 \nQ 3003 1734 2745 1975 \nQ 2488 2216 2034 2216 \nz\nM 1403 2484 \nQ 997 2584 770 2862 \nQ 544 3141 544 3541 \nQ 544 4100 942 4425 \nQ 1341 4750 2034 4750 \nQ 2731 4750 3128 4425 \nQ 3525 4100 3525 3541 \nQ 3525 3141 3298 2862 \nQ 3072 2584 2669 2484 \nQ 3125 2378 3379 2068 \nQ 3634 1759 3634 1313 \nQ 3634 634 3220 271 \nQ 2806 -91 2034 -91 \nQ 1263 -91 848 271 \nQ 434 634 434 1313 \nQ 434 1759 690 2068 \nQ 947 2378 1403 2484 \nz\nM 1172 3481 \nQ 1172 3119 1398 2916 \nQ 1625 2713 2034 2713 \nQ 2441 2713 2670 2916 \nQ 2900 3119 2900 3481 \nQ 2900 3844 2670 4047 \nQ 2441 4250 2034 4250 \nQ 1625 4250 1398 4047 \nQ 1172 3844 1172 3481 \nz\n\" transform=\"scale(0.015625)\"/>\n       </defs>\n       <use xlink:href=\"#DejaVuSans-30\"/>\n       <use xlink:href=\"#DejaVuSans-2e\" x=\"63.623047\"/>\n       <use xlink:href=\"#DejaVuSans-38\" x=\"95.410156\"/>\n      </g>\n     </g>\n    </g>\n    <g id=\"xtick_6\">\n     <g id=\"line2d_6\">\n      <g>\n       <use xlink:href=\"#mcb9d915ff2\" x=\"349.684943\" y=\"224.64\" style=\"stroke: #000000; stroke-width: 0.8\"/>\n      </g>\n     </g>\n     <g id=\"text_6\">\n      <!-- 1.0 -->\n      <g transform=\"translate(341.733381 239.238437)scale(0.1 -0.1)\">\n       <defs>\n        <path id=\"DejaVuSans-31\" d=\"M 794 531 \nL 1825 531 \nL 1825 4091 \nL 703 3866 \nL 703 4441 \nL 1819 4666 \nL 2450 4666 \nL 2450 531 \nL 3481 531 \nL 3481 0 \nL 794 0 \nL 794 531 \nz\n\" transform=\"scale(0.015625)\"/>\n       </defs>\n       <use xlink:href=\"#DejaVuSans-31\"/>\n       <use xlink:href=\"#DejaVuSans-2e\" x=\"63.623047\"/>\n       <use xlink:href=\"#DejaVuSans-30\" x=\"95.410156\"/>\n      </g>\n     </g>\n    </g>\n   </g>\n   <g id=\"matplotlib.axis_2\">\n    <g id=\"ytick_1\">\n     <g id=\"line2d_7\">\n      <defs>\n       <path id=\"mc8ff769905\" d=\"M 0 0 \nL -3.5 0 \n\" style=\"stroke: #000000; stroke-width: 0.8\"/>\n      </defs>\n      <g>\n       <use xlink:href=\"#mc8ff769905\" x=\"30.103125\" y=\"214.756364\" style=\"stroke: #000000; stroke-width: 0.8\"/>\n      </g>\n     </g>\n     <g id=\"text_7\">\n      <!-- 0.0 -->\n      <g transform=\"translate(7.2 218.555582)scale(0.1 -0.1)\">\n       <use xlink:href=\"#DejaVuSans-30\"/>\n       <use xlink:href=\"#DejaVuSans-2e\" x=\"63.623047\"/>\n       <use xlink:href=\"#DejaVuSans-30\" x=\"95.410156\"/>\n      </g>\n     </g>\n    </g>\n    <g id=\"ytick_2\">\n     <g id=\"line2d_8\">\n      <g>\n       <use xlink:href=\"#mc8ff769905\" x=\"30.103125\" y=\"175.221818\" style=\"stroke: #000000; stroke-width: 0.8\"/>\n      </g>\n     </g>\n     <g id=\"text_8\">\n      <!-- 0.2 -->\n      <g transform=\"translate(7.2 179.021037)scale(0.1 -0.1)\">\n       <use xlink:href=\"#DejaVuSans-30\"/>\n       <use xlink:href=\"#DejaVuSans-2e\" x=\"63.623047\"/>\n       <use xlink:href=\"#DejaVuSans-32\" x=\"95.410156\"/>\n      </g>\n     </g>\n    </g>\n    <g id=\"ytick_3\">\n     <g id=\"line2d_9\">\n      <g>\n       <use xlink:href=\"#mc8ff769905\" x=\"30.103125\" y=\"135.687273\" style=\"stroke: #000000; stroke-width: 0.8\"/>\n      </g>\n     </g>\n     <g id=\"text_9\">\n      <!-- 0.4 -->\n      <g transform=\"translate(7.2 139.486491)scale(0.1 -0.1)\">\n       <use xlink:href=\"#DejaVuSans-30\"/>\n       <use xlink:href=\"#DejaVuSans-2e\" x=\"63.623047\"/>\n       <use xlink:href=\"#DejaVuSans-34\" x=\"95.410156\"/>\n      </g>\n     </g>\n    </g>\n    <g id=\"ytick_4\">\n     <g id=\"line2d_10\">\n      <g>\n       <use xlink:href=\"#mc8ff769905\" x=\"30.103125\" y=\"96.152727\" style=\"stroke: #000000; stroke-width: 0.8\"/>\n      </g>\n     </g>\n     <g id=\"text_10\">\n      <!-- 0.6 -->\n      <g transform=\"translate(7.2 99.951946)scale(0.1 -0.1)\">\n       <use xlink:href=\"#DejaVuSans-30\"/>\n       <use xlink:href=\"#DejaVuSans-2e\" x=\"63.623047\"/>\n       <use xlink:href=\"#DejaVuSans-36\" x=\"95.410156\"/>\n      </g>\n     </g>\n    </g>\n    <g id=\"ytick_5\">\n     <g id=\"line2d_11\">\n      <g>\n       <use xlink:href=\"#mc8ff769905\" x=\"30.103125\" y=\"56.618182\" style=\"stroke: #000000; stroke-width: 0.8\"/>\n      </g>\n     </g>\n     <g id=\"text_11\">\n      <!-- 0.8 -->\n      <g transform=\"translate(7.2 60.417401)scale(0.1 -0.1)\">\n       <use xlink:href=\"#DejaVuSans-30\"/>\n       <use xlink:href=\"#DejaVuSans-2e\" x=\"63.623047\"/>\n       <use xlink:href=\"#DejaVuSans-38\" x=\"95.410156\"/>\n      </g>\n     </g>\n    </g>\n    <g id=\"ytick_6\">\n     <g id=\"line2d_12\">\n      <g>\n       <use xlink:href=\"#mc8ff769905\" x=\"30.103125\" y=\"17.083636\" style=\"stroke: #000000; stroke-width: 0.8\"/>\n      </g>\n     </g>\n     <g id=\"text_12\">\n      <!-- 1.0 -->\n      <g transform=\"translate(7.2 20.882855)scale(0.1 -0.1)\">\n       <use xlink:href=\"#DejaVuSans-31\"/>\n       <use xlink:href=\"#DejaVuSans-2e\" x=\"63.623047\"/>\n       <use xlink:href=\"#DejaVuSans-30\" x=\"95.410156\"/>\n      </g>\n     </g>\n    </g>\n   </g>\n   <g id=\"line2d_13\">\n    <path d=\"M 45.321307 214.756364 \nL 78.63898 176.407855 \nL 111.517016 163.717265 \nL 139.633452 156.561513 \nL 179.07898 149.049949 \nL 209.562689 142.763956 \nL 243.854325 137.624465 \nL 270.340725 130.073367 \nL 298.457161 127.068742 \nL 316.73927 23.527767 \nL 349.684943 17.083636 \n\" clip-path=\"url(#pb4fed1f986)\" style=\"fill: none; stroke: #1f77b4; stroke-width: 2; stroke-linecap: square\"/>\n   </g>\n   <g id=\"line2d_14\">\n    <path d=\"M 45.321307 214.756364 \nL 349.684943 17.083636 \n\" clip-path=\"url(#pb4fed1f986)\" style=\"fill: none; stroke-dasharray: 5.55,2.4; stroke-dashoffset: 0; stroke: #000000; stroke-width: 1.5\"/>\n   </g>\n   <g id=\"patch_3\">\n    <path d=\"M 30.103125 224.64 \nL 30.103125 7.2 \n\" style=\"fill: none; stroke: #000000; stroke-width: 0.8; stroke-linejoin: miter; stroke-linecap: square\"/>\n   </g>\n   <g id=\"patch_4\">\n    <path d=\"M 364.903125 224.64 \nL 364.903125 7.2 \n\" style=\"fill: none; stroke: #000000; stroke-width: 0.8; stroke-linejoin: miter; stroke-linecap: square\"/>\n   </g>\n   <g id=\"patch_5\">\n    <path d=\"M 30.103125 224.64 \nL 364.903125 224.64 \n\" style=\"fill: none; stroke: #000000; stroke-width: 0.8; stroke-linejoin: miter; stroke-linecap: square\"/>\n   </g>\n   <g id=\"patch_6\">\n    <path d=\"M 30.103125 7.2 \nL 364.903125 7.2 \n\" style=\"fill: none; stroke: #000000; stroke-width: 0.8; stroke-linejoin: miter; stroke-linecap: square\"/>\n   </g>\n  </g>\n </g>\n <defs>\n  <clipPath id=\"pb4fed1f986\">\n   <rect x=\"30.103125\" y=\"7.2\" width=\"334.8\" height=\"217.44\"/>\n  </clipPath>\n </defs>\n</svg>\n",
      "image/png": "[encoded data removed]"
     },
     "metadata": {
      "needs_background": "light"
     }
    }
   ],
   "source": [
    "def plot_roc_curve(fpr, tpr, label=None):\n",
    "    plt.plot(fpr, tpr, linewidth=2, label=label)\n",
    "    plt.plot([0, 1], [0, 1], 'k--') # Dashed diagonal\n",
    "    [...] # Add axis labels and grid\n",
    "\n",
    "plot_roc_curve(fpr, tpr)\n",
    "plt.show()\n"
   ]
  },
  {
   "source": [
    "### GridSearchVC"
   ],
   "cell_type": "markdown",
   "metadata": {}
  },
  {
   "cell_type": "code",
   "execution_count": 28,
   "metadata": {},
   "outputs": [
    {
     "output_type": "execute_result",
     "data": {
      "text/plain": [
       "GridSearchCV(cv=5, estimator=RandomForestRegressor(),\n",
       "             param_grid=[{'max_features': [2, 4, 6, 8],\n",
       "                          'n_estimators': [3, 10, 30]},\n",
       "                         {'bootstrap': [False], 'max_features': [2, 3, 4],\n",
       "                          'n_estimators': [3, 10]}],\n",
       "             scoring='neg_mean_squared_error')"
      ]
     },
     "metadata": {},
     "execution_count": 28
    }
   ],
   "source": [
    "from sklearn.ensemble import RandomForestRegressor\n",
    "from sklearn.model_selection import GridSearchCV\n",
    "\n",
    "#param_grid = [{'max_depth': list(range(10, 15)), 'max_features': list(range(0,14))}]\n",
    "param_grid = [\n",
    "    {'n_estimators': [3, 10, 30], 'max_features': [2, 4, 6, 8]},\n",
    "    {'bootstrap': [False], 'n_estimators': [3, 10], 'max_features': [2, 3, 4]},\n",
    "  ]\n",
    "\n",
    "forest_reg = RandomForestRegressor()\n",
    "\n",
    "grid_search = GridSearchCV(forest_reg, param_grid, cv=5, scoring='neg_mean_squared_error')\n",
    "\n",
    "grid_search.fit(batchC[\"train\"][\"X\"], batchC[\"train\"][\"y\"])"
   ]
  },
  {
   "cell_type": "code",
   "execution_count": 29,
   "metadata": {},
   "outputs": [
    {
     "output_type": "execute_result",
     "data": {
      "text/plain": [
       "{'max_features': 8, 'n_estimators': 30}"
      ]
     },
     "metadata": {},
     "execution_count": 29
    }
   ],
   "source": [
    "grid_search.best_params_"
   ]
  },
  {
   "cell_type": "code",
   "execution_count": 30,
   "metadata": {},
   "outputs": [
    {
     "output_type": "execute_result",
     "data": {
      "text/plain": [
       "RandomForestRegressor(max_features=8, n_estimators=30)"
      ]
     },
     "metadata": {},
     "execution_count": 30
    }
   ],
   "source": [
    "grid_search.best_estimator_"
   ]
  },
  {
   "cell_type": "code",
   "execution_count": 32,
   "metadata": {},
   "outputs": [
    {
     "output_type": "stream",
     "name": "stdout",
     "text": [
      "3.0913409531931104 {'max_features': 2, 'n_estimators': 3}\n2.7610027164057627 {'max_features': 2, 'n_estimators': 10}\n2.675920464687494 {'max_features': 2, 'n_estimators': 30}\n3.064511924162367 {'max_features': 4, 'n_estimators': 3}\n2.7521240161010185 {'max_features': 4, 'n_estimators': 10}\n2.65751621297448 {'max_features': 4, 'n_estimators': 30}\n3.0478290999040976 {'max_features': 6, 'n_estimators': 3}\n2.749205012362665 {'max_features': 6, 'n_estimators': 10}\n2.650693397752537 {'max_features': 6, 'n_estimators': 30}\n3.0332216096641096 {'max_features': 8, 'n_estimators': 3}\n2.731750903724569 {'max_features': 8, 'n_estimators': 10}\n2.6431117687722216 {'max_features': 8, 'n_estimators': 30}\n3.0777452064060724 {'bootstrap': False, 'max_features': 2, 'n_estimators': 3}\n2.7432875168308555 {'bootstrap': False, 'max_features': 2, 'n_estimators': 10}\n3.0434738923364093 {'bootstrap': False, 'max_features': 3, 'n_estimators': 3}\n2.7428721443042146 {'bootstrap': False, 'max_features': 3, 'n_estimators': 10}\n3.0384436805706967 {'bootstrap': False, 'max_features': 4, 'n_estimators': 3}\n2.730838186344991 {'bootstrap': False, 'max_features': 4, 'n_estimators': 10}\n"
     ]
    }
   ],
   "source": [
    "cvres = grid_search.cv_results_\n",
    "for mean_score, params in zip(cvres[\"mean_test_score\"], cvres[\"params\"])::    print(np.sqrt(-mean_score), params)"
   ]
  },
  {
   "cell_type": "code",
   "execution_count": null,
   "metadata": {},
   "outputs": [],
   "source": []
  }
 ],
 "metadata": {
  "kernelspec": {
   "name": "python3",
   "display_name": "Python 3.9.7 64-bit ('py39': conda)"
  },
  "language_info": {
   "codemirror_mode": {
    "name": "ipython",
    "version": 3
   },
   "file_extension": ".py",
   "mimetype": "text/x-python",
   "name": "python",
   "nbconvert_exporter": "python",
   "pygments_lexer": "ipython3",
   "version": "3.9.7"
  },
  "interpreter": {
   "hash": "d58676d8f3bb1f33c18a580d9495e97176c450620e17bc501929ef40ef7c5fe0"
  }
 },
 "nbformat": 4,
 "nbformat_minor": 5
}